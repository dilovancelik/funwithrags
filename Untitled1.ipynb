{
 "cells": [
  {
   "cell_type": "code",
   "execution_count": 2,
   "id": "4e7bac09-f834-44ad-9084-003454174f01",
   "metadata": {},
   "outputs": [],
   "source": [
    "from bs4 import BeautifulSoup"
   ]
  },
  {
   "cell_type": "code",
   "execution_count": 1,
   "id": "de0fdab1-c66c-44ca-97e7-b22d2d8f316b",
   "metadata": {},
   "outputs": [],
   "source": [
    "\n",
    "LAWS = [\"\"\"\n",
    "<div id=\"restylingRoot\" class=\"document-content \"><p class=\"Titel2\">Lov om projektering af fast forbindelse over Femern Bælt med tilhørende landanlæg i Danmark</p>\n",
    "      <p class=\"Hymne2\">VI MARGRETHE DEN ANDEN, af Guds Nåde Danmarks Dronning, gør vitterligt:</p>\n",
    "      <p class=\"Hymne2\">Folketinget har vedtaget og Vi ved Vort samtykke stadfæstet følgende lov:</p>\n",
    "      <p class=\"ParagrafGruppeOverskrift\"><span id=\"Kap0_X1\">Ratifikation</span></p>\n",
    "      <p class=\"Paragraf\" id=\"Pl\"><span class=\"ParagrafNr\" id=\"Parl_Stk1\">§&nbsp;l.</span> Traktat af 3. september 2008 mellem Kongeriget Danmark og Forbundsrepublikken Tyskland om en fast forbindelse over Femern Bælt kan ratificeres på Danmarks vegne.</p>\n",
    "      <p class=\"ParagrafGruppeOverskrift\"><span id=\"Kap0_X2\">Projektering</span></p>\n",
    "      <p class=\"Paragraf\" id=\"P2\"><span class=\"ParagrafNr\" id=\"Par2_Stk1\">§&nbsp;2.</span> Transportministeren bemyndiges til at foretage den forberedelse, undersøgelse og projektering og de andre dispositioner, som er nødvendige med henblik på etablering af en fast forbindelse over Femern Bælt samt tilhørende land­anlæg i Danmark.</p>\n",
    "      <p class=\"Paragraf\" id=\"P3\"><span class=\"ParagrafNr\" id=\"Par3_Stk1\">§&nbsp;3.</span> Den faste forbindelse over Femern Bælt projekteres som en kombineret jernbane- og vejforbindelse bestående af en dobbeltsporet, elektrificeret jernbane og en firesporet motorvej. Projekteringen skal i øvrigt ske i overensstemmelse med de øvrige forudsætninger, som fremgår af den traktat, der er nævnt i § 1. Den faste forbindelse over Femern Bælt etableres mellem Puttgarden i Tyskland og Rødbyhavn med tilhørende betalingsanlæg, der placeres i Danmark, og diverse driftsfaciliteter.</p>\n",
    "      <p class=\"Stk2\"><span class=\"StkNr\" id=\"Par3_Stk2\">Stk.&nbsp;2.</span> I tilslutning til den faste forbindelse, der er nævnt i stk. 1, foretages en projektering af en udbygning af de eksisterende jernbanelandanlæg i Danmark bestående af</p>\n",
    "      <p class=\"Tekst2\">\n",
    "        </p><div>\n",
    "          <p class=\"Liste1\"><span class=\"Liste1Nr\" id=\"Par3_Stk2_Num1\">1)</span> en udbygning af jernbanen til dobbeltspor på strækningen fra Vordingborg til Storstrømsbroen og fra Orehoved til Rødbyhavn og</p>\n",
    "          <p class=\"Liste1\"><span class=\"Liste1Nr\" id=\"Par3_Stk2_Num2\">2)</span> elektrificering af jernbanen på strækningen mellem Ringsted og Rødbyhavn.</p>\n",
    "        </div>\n",
    "      <p></p>\n",
    "      <p class=\"Stk2\"><span class=\"StkNr\" id=\"Par3_Stk3\">Stk.&nbsp;3.</span> Transportministeren kan endvidere i tilslutning til den faste forbindelse, der er nævnt i stk. 1, foretage projektering af de nødvendige opgraderinger og miljømæssige forbedringer af den eksisterende motorvej på strækningen mellem Sakskøbing og Rødbyhavn.</p>\n",
    "      <p class=\"Paragraf\" id=\"P4\"><span class=\"ParagrafNr\" id=\"Par4_Stk1\">§&nbsp;4.</span> Transportministeren skal efter forhandling med miljøministeren udarbejde VVM-redegørelser for såvel den faste forbindelse som de tilhørende landanlæg i Danmark, herunder foretage høring, og andre nødvendige miljøvurderinger af projektet.</p>\n",
    "      <p class=\"ParagrafGruppeOverskrift\"><span id=\"Kap0_X3\">Organisation</span></p>\n",
    "      <p class=\"Paragraf\" id=\"P5\"><span class=\"ParagrafNr\" id=\"Par5_Stk1\">§&nbsp;5.</span> Transportministeren bemyndiges til at organisere forberedelsen, undersøgelsen og projekteringen og til at træffe andre nødvendige dispositioner vedrørende de anlæg, der er nævnt i § 3, og de miljøvurderinger, der er nævnt i § 4, herunder ved at etablere selskaber, der direkte eller indirekte er fuldt ejet af staten, og til at henlægge opgaver til disse eller til eksisterende selskaber, der direkte eller indirekte er fuldt ejet af staten.</p>\n",
    "      <p class=\"Paragraf\" id=\"P6\"><span class=\"ParagrafNr\" id=\"Par6_Stk1\">§&nbsp;6.</span> For selskaberne, jf. § 5, gælder lovgivningen om aktieselskaber med de undtagelser, der følger af stk. 2-4.</p>\n",
    "      <p class=\"Stk2\"><span class=\"StkNr\" id=\"Par6_Stk2\">Stk.&nbsp;2.</span> Vedtægter for selskaberne, jf. § 5, og ændringer i disse vedtægter skal godkendes af transportministeren.</p>\n",
    "      <p class=\"Stk2\"><span class=\"StkNr\" id=\"Par6_Stk3\">Stk.&nbsp;3.</span> Transportministeren kan om spørgsmål af væsentlig betydning give selskaberne, jf. § 5, generelle eller specielle instrukser for udøvelsen af deres virksomhed.</p>\n",
    "      <p class=\"Stk2\"><span class=\"StkNr\" id=\"Par6_Stk4\">Stk.&nbsp;4.</span> Aktieselskabslovens §&nbsp;49, stk.&nbsp;2, 3. pkt., og stk.&nbsp;3, 1. pkt., finder ikke anvendelse ved medarbejdernes valg af medlemmer af bestyrelsen og suppleanter for disse.</p>\n",
    "      <p class=\"Paragraf\" id=\"P7\"><span class=\"ParagrafNr\" id=\"Par7_Stk1\">§&nbsp;7.</span> Selskaberne, jf. § 5, kan optage lån og benytte andre finansielle instrumenter til finansiering af forberedelse, undersøgelse, projektering og andre nødvendige dispositioner vedrørende den faste forbindelse over Femern Bælt og land­an­læg­ge­ne i Danmark. Lån optages efter finansministerens nærmere bestemmelse.</p>\n",
    "      <p class=\"Stk2\"><span class=\"StkNr\" id=\"Par7_Stk2\">Stk.&nbsp;2.</span> Transportministeren kan indskyde en aktiekapital på op til 500 mio. kr. i det eller de fuldt statsejede selskaber, hvortil der i henhold til § 5 henlægges opgaver. Såfremt det eller de selskaber, hvortil der i henhold til § 5 henlægges opgaver, er datterselskaber af et allerede eksisterende fuldt statsejet selskab, kan dette allerede eksisterende selskab selv foretage indskud på op til 500 mio. kr. i disse datterselskaber.</p>\n",
    "      <p class=\"Stk2\"><span class=\"StkNr\" id=\"Par7_Stk3\">Stk.&nbsp;3.</span> Finansministeren bemyndiges til at yde garanti af statskassen for betaling af renter og afdrag.</p>\n",
    "      <p class=\"Stk2\"><span class=\"StkNr\" id=\"Par7_Stk4\">Stk.&nbsp;4.</span> Finansministeren bemyndiges til at dække selskabernes finansieringsbehov ved ydelse af statslige genudlån til selskaberne, jf. § 5. Genudlånet må ikke ydes på bedre vilkår end dem, som staten selv kan opnå som låntager.</p>\n",
    "      <p class=\"Stk2\"><span class=\"StkNr\" id=\"Par7_Stk5\">Stk.&nbsp;5.</span> Den danske stat garanterer for de økonomiske forpligtelser, der følger af aktiviteterne nævnt i stk.&nbsp;1, som udøves af selskaberne, jf. § 5.</p>\n",
    "      <p class=\"Paragraf\" id=\"P8\"><span class=\"ParagrafNr\" id=\"Par8_Stk1\">§&nbsp;8.</span> Et selskab, som har optaget lån i medfør af §&nbsp;7, kan vederlagsfrit helt eller delvis viderelåne og overføre de optagne lån til de øvrige selskaber, hvortil der i henhold til § 5 henlægges opgaver. Lån, inklusive eventuelle påløbne renter, provisioner el.lign., ydet af og til selskaber, hvortil der i henhold til § 5 henlægges opgaver, eller overførsel af de optagne lån mellem selskaberne, beskattes ikke efter skattelovgivningen.</p>\n",
    "      <p class=\"Paragraf\" id=\"P9\"><span class=\"ParagrafNr\" id=\"Par9_Stk1\">§&nbsp;9.</span> Hvis den skattepligtige indkomst, som er opgjort for et indkomstår for selskaberne, jf. § 5, udviser underskud, kan dette underskud fradrages i selskabernes skattepligtige indkomst for de følgende indkomstår. Fradraget kan dog kun overføres til et senere indkomstår, i det omfang det ikke kan rummes i tidligere års indkomst.</p>\n",
    "      <p class=\"ParagrafGruppeOverskrift\"><span id=\"Kap0_X4\">Byggelinjer, forbud og overtagelse af arealer m.v.</span></p>\n",
    "      <p class=\"Paragraf\" id=\"P10\"><span class=\"ParagrafNr\" id=\"Par10_Stk1\">§&nbsp;10.</span> Transportministeren kan pålægge byggelinjer, når det er nødvendigt for at sikre gennemførelse af de anlæg, der er nævnt i §&nbsp;3. Byggelinjer kan pålægges for en periode af højst 15 år. Byggelinjepålægget kan ved et nyt pålæg forlænges med op til yderligere 10 år.</p>\n",
    "      <p class=\"Stk2\"><span class=\"StkNr\" id=\"Par10_Stk2\">Stk.&nbsp;2.</span> På arealer, der ligger inden for byggelinjen, må der ikke uden tilladelse fra transportministeren opføres ny bebyggelse, herunder ved tilbygning eller ved genopførelse af nedbrændt eller nedreven bebyggelse, ligesom der ikke uden tilladelse fra transportministeren må foretages væsentlige forandringer i eksisterende bebyggelse. På sådanne arealer må der heller ikke indrettes andre anlæg af blivende art.</p>\n",
    "      <p class=\"Paragraf\" id=\"P11\"><span class=\"ParagrafNr\" id=\"Par11_Stk1\">§&nbsp;11.</span> Transportministeren kan som en midlertidig foranstaltning forud for et eventuelt pålæg af byggelinjer nedlægge forbud mod, at der på en ejendom, der berøres af de anlæg, som er nævnt i § 3, foretages de foranstaltninger, der er nævnt i §&nbsp;10, stk.&nbsp;2. Et sådant forbud kan kun nedlægges for et tidsrum af 1 år og kan ikke nedlægges mere end én gang.</p>\n",
    "      <p class=\"Stk2\"><span class=\"StkNr\" id=\"Par11_Stk2\">Stk.&nbsp;2.</span> Vedkommende kommune skal indberette til transportministeren, inden der meddeles tilladelser til byggeri på ejendomme, der ikke er pålagt byggelinjer, men berøres af projekteringen. Hvis transportministeren ikke inden for 2 måneder efter at have modtaget en sådan indberetning nedlægger forbud i henhold til stk.&nbsp;1, kan byggetilladelse meddeles.</p>\n",
    "      <p class=\"Paragraf\" id=\"P12\"><span class=\"ParagrafNr\" id=\"Par12_Stk1\">§&nbsp;12.</span> Transportministeren skal i stedlige nyhedsmedier offentliggøre byggelinjepålæg efter §&nbsp;10. Transportministeren skal endvidere sende meddelelse til de ejere og brugere, hvis ejendomme direkte berøres af pålægget, og hvis adkomst fremgår af tingbogen.</p>\n",
    "      <p class=\"Stk2\"><span class=\"StkNr\" id=\"Par12_Stk2\">Stk.&nbsp;2.</span> Klage over pålæg af byggelinjer skal ske, senest 4 uger efter at meddelelsen er kommet frem til den pågældende.</p>\n",
    "      <p class=\"Stk2\"><span class=\"StkNr\" id=\"Par12_Stk3\">Stk. 3.</span> Når fristen for klage er udløbet og der er truffet afgørelse i eventuelle klagesager, skal byggelinjepålægget tinglyses med angivelse af hjemmel.</p>\n",
    "      <p class=\"Stk2\"><span class=\"StkNr\" id=\"Par12_Stk4\">Stk.&nbsp;4.</span> Klage over en afgørelse om byggelinjepålæg fritager ikke klageren for at efterkomme pålægget. Transportministeren kan dog bestemme, at klagen skal have opsættende virkning.</p>\n",
    "      <p class=\"Stk2\"><span class=\"StkNr\" id=\"Par12_Stk5\">Stk.&nbsp;5.</span> Byggelinjepålægget skal fra offentliggørelsen respekteres af ejendommenes ejere og brugere og af panthavere og andre indehavere af rettigheder over ejendommene, uanset hvornår rettighederne er erhvervet.</p>\n",
    "      <p class=\"Stk2\"><span class=\"StkNr\" id=\"Par12_Stk6\">Stk.&nbsp;6.</span> Forinden byggearbejder iværksættes på en ejendom, hvorpå der er pålagt byggelinjer efter §&nbsp;10, skal bygherren indhente oplysning hos transportministeren om, hvorvidt arbejdets udførelse vil komme i strid med byggelinjepålægget.</p>\n",
    "      <p class=\"Paragraf\" id=\"P13\"><span class=\"ParagrafNr\" id=\"Par13_Stk1\">§&nbsp;13.</span> Hvis ejeren af et areal, der er pålagt byggelinjer efter §&nbsp;10, afskæres fra en udnyttelse af arealet, og hvis denne er økonomisk rimelig og forsvarlig under hensyn til arealets beliggenhed og øvrige beskaffenhed og svarer til den udnyttelse, der finder sted af andre tilgrænsende eller omliggende arealer, kan ejeren på ethvert tidspunkt kræve, at transportministeren overtager arealet mod erstatning.</p>\n",
    "      <p class=\"Stk2\"><span class=\"StkNr\" id=\"Par13_Stk2\">Stk.&nbsp;2.</span> Ejeren af et areal, der i væsentligt omfang er pålagt byggelinjer efter §&nbsp;10, kan på ethvert tidspunkt desuden kræve, at transportministeren overtager arealet mod erstatning, når byggelinjerne hindrer afhændelse af arealet på normale vilkår og ejeren af særlige personlige grunde ønsker at afstå arealet før det tidspunkt, hvor der kan foretages ekspropriation.</p>\n",
    "      <p class=\"Stk2\"><span class=\"StkNr\" id=\"Par13_Stk3\">Stk.&nbsp;3.</span> Udgør det areal, der er pålagt byggelinjer efter § 10, kun en del af en ejendom, kan ejeren kræve hele ejendommen overtaget, hvis den tilbageværende del af ejendommen bliver så lille eller af en sådan beskaffenhed, at ejendommen ikke skønnes hensigtsmæssigt at kunne bevares som selvstændig ejendom eller udnyttes på rimelig måde. Tilsvarende gælder, hvis byggelinjepålægget hindrer afhændelse af hele ejendommen på normale vilkår i de situationer, der er nævnt i stk. 2.</p>\n",
    "      <p class=\"Stk2\"><span class=\"StkNr\" id=\"Par13_Stk4\">Stk.&nbsp;4.</span> Afslår transportministeren ejerens anmodning om overtagelse efter stk.&nbsp;1-3, eller opnås der ikke enighed om erstatningens størrelse, kan ejeren påklage transportministerens afgørelse til de taksationsmyndigheder, der er nævnt i §§&nbsp;57 og 58 i lov om offentlige veje. Taksationsmyndighederne afgør, om ejernes krav efter stk.&nbsp;1-3 skal imødekommes, og fastsætter i så fald erstatning for arealets overtagelse efter reglerne i §&nbsp;51, stk.&nbsp;1 og 2, i lov om offentlige veje. Ved taksationsmyndighedernes behandling finder bestemmelserne i §§&nbsp;58 a-62 i lov om offentlige veje tilsvarende anvendelse.</p>\n",
    "      <p class=\"Stk2\"><span class=\"StkNr\" id=\"Par13_Stk5\">Stk.&nbsp;5.</span> Afgørelser, der kan påklages efter stk.&nbsp;4, kan ikke indbringes for domstolene, før klageadgangen er udnyttet. Søgsmål skal være anlagt, inden for 6 måneder efter at afgørelsen er kommet frem til klageren.</p>\n",
    "      <p class=\"Paragraf\" id=\"P14\"><span class=\"ParagrafNr\" id=\"Par14_Stk1\">§&nbsp;14.</span> Transportministeren kan efter anmodning fra ejeren forlods overtage en ejendom, der berøres særlig indgribende af projekteringen, når ejeren af særlige personlige grunde ønsker at afstå ejendommen før det tidspunkt, hvor der kan foretages ekspropriation, og ejendommen ikke kan afhændes på normale vilkår.</p>\n",
    "      <p class=\"Stk2\"><span class=\"StkNr\" id=\"Par14_Stk2\">Stk.&nbsp;2.</span> Overtagelsessummen fastsættes af ekspropriations- og taksationsmyndighederne i henhold til lov om fremgangsmåden ved ekspropriation vedrørende fast ejendom.</p>\n",
    "      <p class=\"ParagrafGruppeOverskrift\"><span id=\"Kap0_X5\">Adgang til undersøgelser</span></p>\n",
    "      <p class=\"Paragraf\" id=\"P15\"><span class=\"ParagrafNr\" id=\"Par15_Stk1\">§&nbsp;15.</span> Transportministeren har, hvis det skønnes nødvendigt, til enhver tid mod behørig legitimation uden retskendelse adgang til at foretage jordbundsundersøgelser, opmålinger, afmærkninger og andre undersøgelser af udendørs arealer med henblik på at foretage undersøgelse og projektering af de anlæg, der er nævnt i §&nbsp;3.</p>\n",
    "      <p class=\"Stk2\"><span class=\"StkNr\" id=\"Par15_Stk2\">Stk.&nbsp;2.</span> Ejeren af arealet skal underrettes skriftligt senest 8 dage inden gennemførelsen af undersøgelsen m.v. efter stk.&nbsp;1.</p>\n",
    "      <p class=\"Stk2\"><span class=\"StkNr\" id=\"Par15_Stk3\">Stk.&nbsp;3.</span> Erstatning for skade, som måtte blive påført ejeren ved de foranstaltninger, der er nævnt i stk. 1, fastsættes, hvis der ikke kan indgås aftale med ejeren herom, ved taksation efter reglerne i lov om fremgangsmåden ved ekspropriation vedrørende fast ejendom.</p>\n",
    "      <p class=\"ParagrafGruppeOverskrift\"><span id=\"Kap0_X6\">Øvrige bestemmelser</span></p>\n",
    "      <p class=\"Paragraf\" id=\"P16\"><span class=\"ParagrafNr\" id=\"Par16_Stk1\">§&nbsp;16.</span> Staten stiller vederlagsfrit de vandområder og den havbund, hvorover staten udøver højhedsret, og som er nødvendige for forberedelse, undersøgelse og projekteringen af den faste forbindelse over Femern Bælt, til rådighed for selskaberne, jf. § 5.</p>\n",
    "      <p class=\"Paragraf\" id=\"P17\"><span class=\"ParagrafNr\" id=\"Par17_Stk1\">§&nbsp;17.</span> Selskaberne afholder efter aftale med transportministeren alle udgifter til det arbejde, der i henhold til §&nbsp;5 henlægges til disse selskaber, herunder omkostninger i forbindelse med pålæg og offentliggørelse af byggelinjer og overtagelse af arealer i medfør af denne lov.</p>\n",
    "      <p class=\"Paragraf\" id=\"P18\"><span class=\"ParagrafNr\" id=\"Par18_Stk1\">§&nbsp;18.</span> Transportministeren kan bemyndige selskaberne, jf. § 5, til at udøve ministerens beføjelser i denne lov.</p>\n",
    "      <p class=\"Stk2\"><span class=\"StkNr\" id=\"Par18_Stk2\">Stk.&nbsp;2.</span> Selskaberne, jf. § 5, vil kunne overlade opgaver vedrørende undersøgelses- og projekteringsarbejdet vedrørende tilhørende jernbanelandanlæg i Danmark, jf. § 3, stk. 2, herunder VVM-undersøgelser og andre relevante opgaver, til Trafikstyrelsen og Banedanmark.</p>\n",
    "      <p class=\"Stk2\"><span class=\"StkNr\" id=\"Par18_Stk3\">Stk.&nbsp;3.</span> Selskaberne, jf. § 5, vil kunne overlade opgaver vedrørende undersøgelses- og projekteringsarbejdet vedrørende tilhørende vejlandanlæg i Danmark, jf. § 3, stk. 3, herunder VVM-undersøgelser og andre relevante opgaver, til Vejdirektoratet.</p>\n",
    "      <p class=\"Stk2\"><span class=\"StkNr\" id=\"Par18_Stk4\">Stk.&nbsp;4.</span> Selskaberne, jf. § 5, vil kunne overlade opgaver vedrørende undersøgelses- og projekteringsarbejdet vedrørende den faste forbindelse med tilhørende landanlæg i Danmark, herunder VVM-undersøgelser og andre relevante opgaver, til institutioner under Miljøministeriet.</p>\n",
    "      <p class=\"Stk2\"><span class=\"StkNr\" id=\"Par18_Stk5\">Stk.&nbsp;5.</span> Transportministeren kan fastsætte regler om adgangen til at klage over afgørelser, der træffes efter denne lov, for så vidt bestemmelser herom ikke er fastsat i loven, herunder om klagefrister og om, at afgørelserne ikke kan påklages til transportministeren.</p>\n",
    "      <p class=\"Paragraf\" id=\"P19\"><span class=\"ParagrafNr\" id=\"Par19_Stk1\">§&nbsp;19.</span> Loven træder i kraft dagen efter bekendtgørelsen i Lovtidende.</p><div class=\"GIVET\" id=\"GIVET\"><font size=\"3\"><p class=\"GIVET\" align=\"CENTER\"><i>Givet på Christiansborg Slot, den 15. april 2009</i></p><p class=\"SIGN1\" align=\"CENTER\">MARGRETHE R.</p><p class=\"SIGN2\" align=\"RIGHT\">/ Lars Barfoed</p></font></div></div>\n",
    "\"\"\"]"
   ]
  },
  {
   "cell_type": "code",
   "execution_count": 77,
   "id": "e6a9ff05-955b-42c5-aa13-c35c55c74d9a",
   "metadata": {},
   "outputs": [],
   "source": [
    "soup = BeautifulSoup(TEST)"
   ]
  },
  {
   "cell_type": "code",
   "execution_count": 20,
   "id": "807d9b00-db15-443a-901a-ddffca59fba8",
   "metadata": {},
   "outputs": [],
   "source": [
    "groups = soup.find(\"p\", attrs={\"class\": \"ParagrafGruppeOverskrift\"})"
   ]
  },
  {
   "cell_type": "code",
   "execution_count": 79,
   "id": "4053469f-7280-4e9b-9cc2-7d0b63f7fc8b",
   "metadata": {},
   "outputs": [
    {
     "ename": "TypeError",
     "evalue": "string indices must be integers, not 'str'",
     "output_type": "error",
     "traceback": [
      "\u001b[0;31m---------------------------------------------------------------------------\u001b[0m",
      "\u001b[0;31mTypeError\u001b[0m                                 Traceback (most recent call last)",
      "Cell \u001b[0;32mIn[79], line 8\u001b[0m\n\u001b[1;32m      6\u001b[0m \u001b[38;5;28;01mwhile\u001b[39;00m \u001b[38;5;28;01mTrue\u001b[39;00m:\n\u001b[1;32m      7\u001b[0m     next_node \u001b[38;5;241m=\u001b[39m next_node\u001b[38;5;241m.\u001b[39mnextSibling\n\u001b[0;32m----> 8\u001b[0m     \u001b[38;5;28;01mif\u001b[39;00m \u001b[38;5;129;01mnot\u001b[39;00m next_node \u001b[38;5;129;01mor\u001b[39;00m \u001b[38;5;124m\"\u001b[39m\u001b[38;5;124mParagrafGruppeOverskrift\u001b[39m\u001b[38;5;124m\"\u001b[39m \u001b[38;5;129;01min\u001b[39;00m \u001b[43mnext_node\u001b[49m\u001b[43m[\u001b[49m\u001b[38;5;124;43m\"\u001b[39;49m\u001b[38;5;124;43mclass\u001b[39;49m\u001b[38;5;124;43m\"\u001b[39;49m\u001b[43m]\u001b[49m \u001b[38;5;129;01mor\u001b[39;00m \u001b[38;5;124m\"\u001b[39m\u001b[38;5;124mBilag\u001b[39m\u001b[38;5;124m\"\u001b[39m \u001b[38;5;129;01min\u001b[39;00m next_node[\u001b[38;5;124m\"\u001b[39m\u001b[38;5;124mclass\u001b[39m\u001b[38;5;124m\"\u001b[39m]:\n\u001b[1;32m      9\u001b[0m         content_dict[\u001b[38;5;124m\"\u001b[39m\u001b[38;5;124mcontent\u001b[39m\u001b[38;5;124m\"\u001b[39m] \u001b[38;5;241m=\u001b[39m \u001b[38;5;124m\"\u001b[39m\u001b[38;5;124m \u001b[39m\u001b[38;5;124m\"\u001b[39m\u001b[38;5;241m.\u001b[39mjoin(content)\n\u001b[1;32m     10\u001b[0m         \u001b[38;5;28;01mbreak\u001b[39;00m\n",
      "\u001b[0;31mTypeError\u001b[0m: string indices must be integers, not 'str'"
     ]
    }
   ],
   "source": [
    "for group in groups: \n",
    "    group_heading = group.get_text().replace(\"\\n\",\" \")\n",
    "    next_node = group\n",
    "    content_dict = {\"header\": group_heading}\n",
    "    content = []\n",
    "    while True:\n",
    "        next_node = next_node.nextSibling\n",
    "        if not next_node or \"ParagrafGruppeOverskrift\" in next_node[\"class\"] or \"Bilag\" in next_node[\"class\"]:\n",
    "            content_dict[\"content\"] = \" \".join(content)\n",
    "            break\n",
    "        else:\n",
    "            content.append(next_node.get_text().replace(\"\\n\", \" \"))"
   ]
  },
  {
   "cell_type": "code",
   "execution_count": 94,
   "id": "c79c40fb-83b4-40c3-9790-8dcfec4b155e",
   "metadata": {},
   "outputs": [],
   "source": [
    "paragraphs =  soup.find_all(\"p\")"
   ]
  },
  {
   "cell_type": "code",
   "execution_count": 7,
   "id": "1f047afd-b42f-4861-a139-58e073002f9b",
   "metadata": {},
   "outputs": [],
   "source": [
    "results = []\n",
    "for law in LAWS:\n",
    "    soup = BeautifulSoup(law)\n",
    "    titel = soup.find(\"p\", attrs={\"class\":\"Titel2\"}).get_text().replace(\"\\n\", \" \")\n",
    "    paragraphs = soup.find_all(\"p\")\n",
    "    heading = \"intro\"\n",
    "    content = []\n",
    "    grouper = \"\"\n",
    "    try:\n",
    "        if soup.find(\"p\", attrs={\"class\": \"CentreretParagraf\"}):\n",
    "            grouper = \"CentreretParagraf\"\n",
    "        elif soup.find(\"p\", attrs={\"class\": \"ParagrafGruppeOverskrift\"}):\n",
    "            grouper = \"ParagrafGruppeOverskrift\"\n",
    "        else:\n",
    "            grouper = \"Kapitel\"\n",
    "            \n",
    "        for p in paragraphs:\n",
    "            if p.find(\"p\", attrs={\"class\": grouper}):\n",
    "                results.append(f\"{titel} ({heading}): {' '.join(content)}\")\n",
    "                heading = p.get_text().replace(\"\\n\", \"\")\n",
    "                content = []\n",
    "            elif p.find(\"p\", attrs={\"class\": \"Bilag\"}):\n",
    "                break\n",
    "            else:\n",
    "                content.append(p.get_text().replace(\"\\n\", \" \"))\n",
    "        results.append(f\"{titel} ({heading}): {' '.join(content)}\")\n",
    "    except Exception as e:\n",
    "        if p.find(\"p\", attrs={\"class\": grouper}) is None:\n",
    "            print(\"success\")\n",
    "        print(p)\n",
    "        raise e\n"
   ]
  },
  {
   "cell_type": "code",
   "execution_count": 145,
   "id": "52831fa7-f96a-48a1-9e54-fc4c281c3192",
   "metadata": {},
   "outputs": [
    {
     "data": {
      "text/plain": [
       "['Lov om supplerende bestemmelser til forordning om reduktion af metanemissioner i energisektoren (intro): Lov om supplerende bestemmelser til forordning om reduktion af metanemissioner i energisektoren VI FREDERIK DEN TIENDE, af Guds Nåde Danmarks Konge, gør vitterligt: Folketinget har vedtaget og Vi ved Vort samtykke stadfæstet følgende lov:',\n",
       " 'Lov om supplerende bestemmelser til forordning om reduktion af metanemissioner i energisektoren (Formål og anvendelsesområde):    § 1. Loven supplerer Europa-Parlamentets og Rådets forordning om reduktion af metanemissioner i energisektoren og om ændring af forordning (EU) 2019/942, (EU) 2024/1787 af 13. juni 2024 med senere ændringer (metanforordningen), med henblik på at sikre forordningens anvendelse i Danmark.    § 2. Loven finder anvendelse på metanemissioner, aktiver og aktiviteter, jf. metanforordningens artikel 1.',\n",
       " 'Lov om supplerende bestemmelser til forordning om reduktion af metanemissioner i energisektoren (Den kompetente myndighed):    § 3. Klima-, energi- og forsyningsministeren udpeger en kompetent myndighed i henhold til metanforordningen.    § 4. Den kompetente myndighed træffer afgørelse om, hvorvidt et forhold er omfattet af metanforordningen.  Stk. 2. Til brug for afgørelser efter stk. 1 kan den kompetente myndighed pålægge en fysisk eller juridisk person at afgive enhver oplysning, herunder på tro og love, som er nødvendig for at afklare, om et forhold er omfattet af metanforordningen.',\n",
       " 'Lov om supplerende bestemmelser til forordning om reduktion af metanemissioner i energisektoren (Tilsyn og kontrol):    § 5. Den kompetente myndighed fører tilsyn og kontrol med overholdelse af denne lov og regler udstedt i medfør af loven.    § 6. Den kompetente myndighed har til enhver tid mod behørig legitimation og uden retskendelse adgang til erhvervsmæssige lokaliteter, dokumentation og optegnelser, når den skønner det nødvendigt for at føre en effektiv kontrol efter metanforordningen.  Stk. 2. Den kompetente myndighed kan som led i kontrolbesøg efter metanforordningen uden retskendelse foretage tekniske undersøgelser og kræve en kopi af dokumentation og optegnelser udleveret.  Stk. 3. Politiet yder om nødvendigt bistand til gennemførelse af kontrol efter stk. 1 og 2.',\n",
       " 'Lov om supplerende bestemmelser til forordning om reduktion af metanemissioner i energisektoren (Påbud og tvangsbøder):    § 7. Den kompetente myndighed kan udstede påbud om overholdelse af metanforordningen, denne lov og regler udstedt i medfør af denne lov.  Stk. 2. Den kompetente myndighed kan pålægge daglige tvangsbøder til den, der undlader at efterkomme påbud udstedt efter stk. 1 vedrørende overholdelse af metanforordningens artikel 12, artikel 14, stk. 14, artikel 16, stk. 2, artikel 20, artikel 23, stk. 1, artikel 27, stk. 1, artikel 28, stk. 1 og 2, og artikel 29, stk. 1 og 2.',\n",
       " 'Lov om supplerende bestemmelser til forordning om reduktion af metanemissioner i energisektoren (Oplysningspligt):    § 8. Den, der er omfattet af metanforordningen, skal efter anmodning fra den kompetente myndighed afgive alle oplysninger, herunder om økonomiske og regnskabsmæssige forhold, som den kompetente myndighed skønner nødvendige for varetagelsen af sine opgaver i henhold til metanforordningen, denne lov og regler udstedt i medfør af denne lov.  Stk. 2. Klima-, energi- og forsyningsministeren kan fastsætte regler om opbevaring af oplysninger med henblik på tilsyn og kontrol.    § 9. Den kompetente myndighed kan ved administration af metanforordningen indhente enhver oplysning hos Skatteforvaltningen, som er nødvendig for varetagelsen af den kompetente myndigheds opgaver.',\n",
       " 'Lov om supplerende bestemmelser til forordning om reduktion af metanemissioner i energisektoren (Gebyrer):    § 10. Klima-, energi- og forsyningsministeren fastsætter regler om gebyrer til dækning af den kompetente myndigheds omkostninger til administration af metanforordningen, denne lov og regler udstedt i medfør af loven.    § 11. Klima-, energi- og forsyningsministeren kan fastsætte regler om betaling af gebyr for indgivelse af klage til den kompetente myndighed i medfør af metanforordningens artikel 7.',\n",
       " 'Lov om supplerende bestemmelser til forordning om reduktion af metanemissioner i energisektoren (Digital kommunikation og automatisering):    § 12. Skriftlig kommunikation til og fra den kompetente myndighed skal foregå digitalt og under anvendelse af de it-systemer, digitale formater og identifikationsløsninger, som myndigheden anviser.  Stk. 2. Den kompetente myndigheds afgørelser om forhold omfattet af metanforordningen, denne lov og regler udstedt i medfør af loven kan træffes ved hjælp af automatiseret sagsbehandling.  Stk. 3. Klima-, energi- og forsyningsministeren kan fastsætte nærmere regler om digital kommunikation og automatiseret sagsbehandling.',\n",
       " 'Lov om supplerende bestemmelser til forordning om reduktion af metanemissioner i energisektoren (Undtagelser fra indførelse i Lovtidende):    § 13. Klima-, energi- og forsyningsministeren kan fastsætte regler om, at nærmere angivne internationale vedtagelser og tekniske specifikationer vedrørende krav til virksomheder, aktiver m.v., som der henvises til i regler udstedt i medfør af denne lov, ikke indføres i Lovtidende. Klima-, energi- og forsyningsministeren fastsætter regler om, hvordan oplysning om indholdet af sådanne internationale vedtagelser og tekniske specifikationer kan tilgås.  Stk. 2. Klima-, energi- og forsyningsministeren kan fastsætte regler om, at de internationale vedtagelser og tekniske specifikationer, som ikke indføres i Lovtidende, jf. stk. 1, skal være gældende, selv om de ikke foreligger på dansk.',\n",
       " 'Lov om supplerende bestemmelser til forordning om reduktion af metanemissioner i energisektoren (Gennemførelsesforanstaltninger):    § 14. Klima-, energi- og forsyningsministeren kan fastsætte regler, der er nødvendige for at gennemføre, anvende eller håndhæve retsakter vedtaget af Den Europæiske Unions institutioner om forhold omfattet af metanforordningen.',\n",
       " 'Lov om supplerende bestemmelser til forordning om reduktion af metanemissioner i energisektoren (Klage):    § 15. Energiklagenævnet behandler klager over afgørelser truffet af den kompetente myndighed i henhold til metanforordningen, denne lov og regler udstedt i medfør af loven, jf. dog stk. 2, herunder regler fastsat i medfør af § 16.  Stk. 2. Afgørelser truffet af den kompetente myndighed, jf. metanforordningens artikel 7, kan alene indbringes for Energiklagenævnet, for så vidt angår forvaltningsretlige forhold.  Stk. 3. Den kompetente myndigheds afgørelser kan ikke indbringes for anden administrativ myndighed end Energiklagenævnet.  Stk. 4. Klage skal være indgivet skriftligt, inden 4 uger efter at afgørelsen er meddelt.  Stk. 5. Energiklagenævnets formand kan efter nærmere aftale med nævnet træffe afgørelse på nævnets vegne i sager omfattet af metanforordningen, denne lov og regler udstedt i medfør af loven.  Stk. 6. Den kompetente myndigheds afgørelser kan ikke indbringes for domstolene, før den endelige administrative afgørelse foreligger.    § 16. Klima-, energi-, og forsyningsministeren kan fastsætte nærmere regler om indgivelse af klage, herunder om formkrav til klagen og undtagelser fra klageadgang.',\n",
       " 'Lov om supplerende bestemmelser til forordning om reduktion af metanemissioner i energisektoren (Straffebestemmelser):    § 17. Medmindre højere straf er forskyldt efter anden lovgivning, straffes med bøde den, der  1) undlader at efterkomme et påbud udstedt efter § 7, stk. 1, eller  2) undlader at afgive oplysninger eller afgiver urigtige eller vildledende oplysninger, som krævet efter § 4, stk. 2, eller § 8, stk. 1.  Stk. 2. Klima-, energi- og forsyningsministeren kan i forskrifter, der udstedes i medfør af loven, fastsætte straf af bøde for overtrædelse af bestemmelser i forskrifterne.  Stk. 3. Klima-, energi- og forsyningsministeren fastsætter bestemmelser om straf af bøde for overtrædelse af regler fastsat i metanforordningen.  Stk. 4. Klima-, energi- og forsyningsministeren fastsætter regler om konfiskation af økonomiske fordele opnået ved overtrædelse af regler fastsat i metanforordningen.  Stk. 5. Der kan pålægges selskaber m.v. (juridiske personer) strafansvar efter reglerne i straffelovens 5. kapitel.',\n",
       " 'Lov om supplerende bestemmelser til forordning om reduktion af metanemissioner i energisektoren (Ikrafttræden):    § 18. Loven træder i kraft den 1. januar 2025.',\n",
       " 'Lov om supplerende bestemmelser til forordning om reduktion af metanemissioner i energisektoren (Territorialbestemmelse):    § 19. Loven gælder ikke for Færøerne og Grønland. Givet på Christiansborg Slot, den 10. december 2024 Under Vor Kongelige Hånd og Segl FREDERIK R. / Lars Aagaard',\n",
       " 'Lov om supplerende bestemmelser til Europa-Parlamentets og Rådets forordning om europæisk datastyring (datastyringsloven)1) (intro): Lov om supplerende bestemmelser til Europa-Parlamentets og Rådets forordning om europæisk datastyring (datastyringsloven)1) VI FREDERIK DEN TIENDE, af Guds Nåde Danmarks Konge, gør vitterligt: Folketinget har vedtaget og Vi ved Vort samtykke stadfæstet følgende lov:    § 1. Loven supplerer Europa-Parlamentets og Rådets forordning (EU) 2022/868 af 30. maj 2022 om europæisk datastyring og om ændring af forordning (EU) 2018/1724 (forordning om datastyring), jf. bilag 1 til denne lov.    § 2. Digitaliseringsstyrelsen udpeges som kompetent myndighed, jf. artikel 13, stk. 1, i forordning om datastyring, til at udføre de opgaver, der er forbundet med anmeldelsesproceduren for dataformidlingstjenester efter kapitel III i forordning om datastyring.  Stk. 2. Digitaliseringsstyrelsen fører tilsyn med, at udbydere af dataformidlingstjenester opfylder kravene i kapitel III i forordning om datastyring.    § 3. Digitaliseringsstyrelsen udpeges som kompetent myndighed, jf. artikel 23, stk. 1, i forordning om datastyring, med ansvar for det offentlige nationale register over anerkendte dataaltruistiske organisationer efter kapitel IV i forordning om datastyring.  Stk. 2. Digitaliseringsstyrelsen fører tilsyn med, at anerkendte dataaltruistiske organisationer opfylder kravene i kapitel IV i forordning om datastyring.    § 4. Digitaliseringsstyrelsen kan meddele påbud efter artikel 34 i forordning om datastyring om,  1) at en udbyder af dataformidlingstjenester skal indgive en anmeldelse i overensstemmelse med anmeldelsesforpligtelsen for dataformidlingstjenesteudbydere efter artikel 11 i forordning om datastyring,  2) at en udbyder af dataformidlingstjenester skal opfylde betingelserne for udbud af dataformidlingstjenester efter artikel 12 i forordning om datastyring, og  3) at en anerkendt dataaltruistisk organisation skal opfylde betingelserne for registrering som en anerkendt dataaltruistisk organisation efter artikel 18 og 20-22 i forordning om datastyring.  Stk. 2. Digitaliseringsstyrelsen fastsætter en frist for efterlevelse af et påbud efter stk. 1.    § 5. Med bøde straffes den, der undlader at efterkomme påbud efter § 4, stk. 1.  Stk. 2. Der kan pålægges selskaber m.v. (juridiske personer) strafansvar efter reglerne i straffelovens 5. kapitel.    § 6. Loven træder i kraft dagen efter bekendtgørelsen i Lovtidende.    § 7. Loven gælder ikke for Færøerne og Grønland. Givet på Amalienborg, den 21. januar 2025 Under Vor Kongelige Hånd og Segl FREDERIK R. / Caroline Stage Olsen',\n",
       " 'Lov om ældretilsyn (intro): Lov om ældretilsyn VI FREDERIK DEN TIENDE, af Guds Nåde Danmarks Konge, gør vitterligt: Folketinget har vedtaget og Vi ved Vort samtykke stadfæstet følgende lov:    Kapitel 1   Formål     § 1. Ældretilsynets formål er at støtte plejeenheder omfattet af loven i at sikre kvalitet i helhedsplejen, der gives i medfør af ældreloven.  Stk. 2. Formålet opnås gennem læringsorienteret dialog og ved at  1) bistå med rådgivning og sparring til plejeenhederne om kvalitet i helhedsplejen, jf. § 4, stk. 3, og  2) føre tilsyn med kvalitet i helhedsplejen i plejeenhederne, jf. § 7, stk. 1-3.    Kapitel 2   Anvendelsesområde     § 2. Loven omfatter følgende kommunale og private plejeenheder og leverandører, som er registreret i plejeoversigten, jf. § 27, stk. 2 og 3, i ældreloven:  1) Plejehjem, jf. § 47 i ældreloven.  2) Plejeboligbebyggelser, jf. lov om almene boliger m.v.  3) Plejeboligbebyggelser, jf. lov om boliger for ældre og personer med handicap.  4) Friplejeboligbebyggelser, jf. lov om friplejeboliger.  5) Andre tilsvarende boligenheder, herunder midlertidige pladser, hvor hjælpen udgår fra servicearealer og der er tilknyttet fast personale.  6) Kommunale og private leverandører, der leverer tilbud i borgernes eget hjem, jf. § 10 i ældreloven.    Kapitel 3   Ansvar for ældretilsynet     § 3. Kommunalbestyrelsen har ansvaret for at varetage funktionen som ældretilsyn efter denne lov i de kommuner, der udpeges af ældreministeren efter aftale med hver af de pågældende kommuner.  Stk. 2. Ældreministeren fastsætter regler om ansvaret for varetagelsen af funktionen som ældretilsyn, herunder om det geografiske dækningsområde og ældretilsynets indretning, drift og finansiering. Ældreministeren kan i den forbindelse fastsætte nærmere regler om indholdet i ældretilsynets opgaver.    Kapitel 4   Koordineret indsats vedrørende rådgivning og sparring     § 4. Ældretilsynet koordinerer og iværksætter indsatsen vedrørende rådgivning og sparring efter stk. 2 og 3 til plejeenheder omfattet af § 2 i følgende tilfælde:  1) Efter anmodning fra den ældre eller dennes pårørende.  2) Efter anmodning fra plejeenhedens ledelse.  3) I forbindelse med tilsyn efter § 7, stk. 1-3.  Stk. 2. Ældretilsynet vurderer i forbindelse med en anmodning efter stk. 1, nr. 1 og 2, om der er tale om forhold begrundet i kvalitet i helhedsplejen, som plejeenheden har behov for støtte til fra ældretilsynet, eller om anmodningen skal videresendes til anden relevant myndighed.  Stk. 3. Ældretilsynet bistår plejeenheden med rådgivning og sparring om kvalitet i helhedsplejen i de tilfælde, der er nævnt i stk. 1, og i overensstemmelse med vurderingen efter stk. 2 og ældretilsynets vurdering af behovets omfang. Ældretilsynet vejleder derudover om andre relevante myndigheders indsatser i forhold til plejeenhedens behov.    Kapitel 5   Ældrelinjen     § 5. Ældretilsynet skal i hver af de kommuner, hvor kommunalbestyrelsen varetager funktionen som ældretilsyn, have en lettilgængelig og direkte indgang (Ældrelinjen), hvortil ældre, pårørende, personale og andre kan henvende sig anonymt om bekymrende forhold i en plejeenhed.  Stk. 2. Oplysninger om bekymrende forhold som nævnt i stk. 1 skal så vidt muligt rettes til plejeenheden eller til en ansvarlig myndighed inden henvendelse til Ældrelinjen.  Stk. 3. Ældretilsynet må ikke videregive oplysninger om identiteten på den, der har henvendt sig, og andre oplysninger, ud fra hvilke vedkommendes identitet direkte eller indirekte kan udledes, til plejeenheden eller andre uden vedkommendes udtrykkelige samtykke.    Kapitel 6   Opstartsmøde     § 6. Ældretilsynet afholder opstartsmøde med plejeenheden, inden for 3-6 måneder efter at en plejeenhed har registreret sig i plejeoversigten.  Stk. 2. Opstartsmøde efter stk. 1 indebærer dialog med plejeenheden om ældretilsynet, herunder ældretilsynets rådgivning og sparring, jf. § 4, stk. 3, Ældrelinjen, jf. § 5, ældretilsynets tilsyn, jf. § 7, og eventuelt dialog om forhold, hvor det kan være relevant for plejeenheden at arbejde med kvalitet i helhedsplejen.    Kapitel 7   Tilsyn med kvalitet i helhedsplejen ',\n",
       " 'Lov om ældretilsyn (Ældretilsynets tilsyn og samtilsyn):    § 7. Ældretilsynet fører tilsyn med kvalitet i helhedsplejen, der gives i medfør af ældreloven, i plejeenhederne omfattet af § 2.  Stk. 2. Tilsyn efter stk. 1 gennemføres ud fra en løbende vurdering af, hvor der kan være størst risiko, eller hvor der er en konkret bekymring for udfordringer med kvalitet i helhedsplejen. Ældretilsynet gennemfører uanset 1. pkt. et anmeldt tilsynsbesøg i hver plejeenhed inden for en periode på 5 år.  Stk. 3. Som led i tilsynet foretager ældretilsynet en vurdering af kvalitet i helhedsplejen i forhold til de elementer, der indgår heri, jf. § 9, stk. 2, i ældreloven. Vurderingen foretages inden for følgende temaer, jf. § 1, stk. 2, og § 11 i ældreloven:  1) Den ældres selvbestemmelse.  2) Tillid til medarbejderne og den borgernære ledelse.  3) Et tæt samspil med de pårørende, lokale fællesskaber og civilsamfund.  Stk. 4. Ældretilsynet orienterer mundtligt plejeenheden om de væsentligste observationer og konklusioner i tilsynet efter stk. 1 og om vurderingen af kvalitet i helhedsplejen med henblik på dialog og at fremme læring i plejeenheden. Ældretilsynet udfærdiger en skriftlig tilbagemelding på tilsynet i overensstemmelse med den mundtlige orientering og dialogen med plejeenheden.  Stk. 5. Ældreministeren kan fastsætte nærmere regler om tilrettelæggelsen og udførelsen af ældretilsynets tilsyn, herunder om ældretilsynets vurdering af kvalitet i helhedsplejen og om ældretilsynets skriftlige tilbagemelding på tilsyn, herunder om indhold og form.',\n",
       " 'Lov om ældretilsyn (Samtilsyn):    § 8. Udtager flere tilsynsmyndigheder omfattet af regler udstedt i medfør af stk. 3 uafhængigt af hinanden samme plejeenhed, jf. § 2, nr. 1-4, til tilsyn i det samme kalenderår, udfører disse tilsynsmyndigheder tilsynet samtidig.  Stk. 2. Ældretilsynet faciliterer den overordnede koordination mellem tilsynsmyndigheder i forbindelse med samtilsyn efter stk. 1.  Stk. 3. Ældreministeren fastsætter efter forhandling med vedkommende minister regler om, hvilke tilsynsmyndigheder der er omfattet af samtilsyn, og om de overordnede rammer for samtilsyn efter stk. 1.',\n",
       " 'Lov om ældretilsyn (Ældretilsynets sanktionsmuligheder):    § 9. Ældretilsynet træffer afgørelse om følgende, når det er nødvendigt for at sikre kvalitet i helhedsplejen i en plejeenhed omfattet af § 2:  1) Påbud om inden for en nærmere fastsat frist at sikre kvalitet i helhedsplejen inden for et eller flere af temaerne, jf. § 7, stk. 3.  2) Påbud om at modtage den nødvendige rådgivning og sparring, jf. § 4, stk. 3.  3) Forbud mod indflytning af nye beboere i plejeenheden, jf. § 2, nr. 1-5, for en bestemt periode.  4) Forbud mod indtag af nye borgere hos leverandører, jf. § 2, nr. 6, for en bestemt periode.  Stk. 2. Afgørelser efter stk. 1 kan ikke indbringes for anden administrativ myndighed.  Stk. 3. Ældreministeren kan fastsætte nærmere regler om ældretilsynets afgørelser efter stk. 1.    Kapitel 8   Oplysningspligt og kommunikation ',\n",
       " 'Lov om ældretilsyn (Plejeenhedens oplysningspligt):    § 10. Plejeenheder omfattet af § 2 har over for ældretilsynet pligt til følgende:  1) Efter anmodning at give de oplysninger, som er nødvendige for, at ældretilsynet kan vurdere kvalitet i helhedsplejen i en plejeenhed, jf. § 7, stk. 3.  2) Af egen drift og uden unødigt ophold at give ældretilsynet oplysninger om overtrædelser, mangler eller bekymrende forhold i plejeenheden og om, hvorvidt andre tilsynsmyndigheder har iværksat foranstaltninger over for plejeenheden.  Stk. 2. Ældreministeren kan fastsætte nærmere regler om plejeenhedernes oplysningspligt efter stk. 1.',\n",
       " 'Lov om ældretilsyn (Ældretilsynets oplysningspligt):    § 11. Får ældretilsynet oplysninger om overtrædelser, mangler eller bekymrende forhold i en plejeenhed, og er disse oplysninger nødvendige og relevante af hensyn til udførelsen af en opgave, som henhører under en anden offentlig myndighed, videregiver ældretilsynet uden unødigt ophold oplysningerne til denne myndighed, herunder oplysninger om, hvorvidt ældretilsynet har iværksat foranstaltninger over for plejeenheden.',\n",
       " 'Lov om ældretilsyn (Den stedlige kommunalbestyrelses oplysningspligt):    § 12. Bliver den stedlige kommunalbestyrelse orienteret om overtrædelser, mangler eller bekymrende forhold i en plejeenhed efter § 11, skal kommunalbestyrelsen orientere de enkelte borgeres handlekommuner, jf. §§ 9 og 9 b i lov om retssikkerhed og administration på det sociale område, når disse borgere kan blive berørt.',\n",
       " 'Lov om ældretilsyn (Kommunikation):    § 13. Ældreministeren kan fastsætte nærmere regler om kommunikationen mellem ældretilsynet og plejeenhederne, mellem kommunerne og andre myndigheder og tilsyn, jf. §§ 10-12, og mellem ældretilsynet og Sundhedsstyrelsen. Ældreministeren kan i denne forbindelse fastsætte regler om, at kommunikationen skal foregå digitalt, og om anvendelse af bestemte it-systemer, særlige digitale formater og digital signatur el.lign. Ældreministeren kan endvidere fastsætte regler om at undtage plejeenheder helt eller delvis fra digital kommunikation, når særlige omstændigheder taler for det.    Kapitel 9   Sundhedsstyrelsens tværgående rolle i forhold til ældretilsynet     § 14. Sundhedsstyrelsen faciliterer, at ældretilsynets viden og praksis koordineres og ajourføres på tværs af de kommuner, hvor kommunalbestyrelsen varetager funktionen som ældretilsyn.  Stk. 2. Ældretilsynet skal efter anmodning fra Sundhedsstyrelsen give de oplysninger, som er nødvendige som led i varetagelsen af opgaven efter stk. 1.    Kapitel 10   Ikrafttrædelses- og overgangsbestemmelser m.v.     § 15. Loven træder i kraft den 1. januar 2025, jf. dog stk. 2.  Stk. 2. §§ 1, 2 og 4-14 træder i kraft den 1. juli 2025.    § 16. Sager omfattet af §§ 150, 150 b, 150 d, 151, 151 a og 151 c i lov om social service, jf. lovbekendtgørelse nr. 909 af 3. juli 2024, som den 1. juli 2025 er under behandling i Styrelsen for Patientsikkerhed eller kommunerne, færdigbehandles af ældretilsynet efter reglerne i denne lov.  Stk. 2. Fristen i § 6, stk. 1, finder ikke anvendelse på plejeenheder, som før den 1. juli 2025 var registreret hos Styrelsen for Patientsikkerhed efter § 150 c i lov om social service, jf. lovbekendtgørelse nr. 909 af 3. juli 2024. For sådanne plejeenheder er fristen den 1. juli 2026.    § 17. Kommunalbestyrelserne, som varetager funktionen som ældretilsyn efter denne lov, overtager senest den 1. juli 2025 det personale, som i kommunerne og i Styrelsen for Patientsikkerhed udelukkende eller helt overvejende er beskæftiget med varetagelsen af opgaven, jf. § 1. Den kommunalbestyrelse, som varetager funktionen som ældretilsyn, overtager det personale, som har tjenestested i en kommune eller i Styrelsen for Patientsikkerhed beliggende tættest på kommunalbestyrelsen, der varetager ældretilsynet.  Stk. 2. De pligter og rettigheder, der følger af lov om lønmodtageres retsstilling ved virksomhedsoverdragelse, finder tilsvarende anvendelse for personale, der er ansat i henhold til kollektiv overenskomst, bestemmelser om løn- og arbejdsforhold, der er fastsat eller godkendt af offentlig myndighed, eller individuel aftale, og som i forbindelse med overførsel efter stk. 1 ikke er omfattet af lov om lønmodtageres retsstilling ved virksomhedsoverdragelse.  Stk. 3. Tjenestemænd har pligt til at følge med opgaverne til den nye ansættelsesmyndighed på vilkår, der svarer til de hidtidige vilkår. Den nye ansættelsesmyndighed udbetaler den samlede tjenestemandspension, idet pensionsbyrden deles forholdsmæssigt mellem de to ansættelsesmyndigheder.    § 18. Loven gælder ikke for Færøerne og Grønland. Givet på Amalienborg, den 30. december 2024 Under Vor Kongelige Hånd og Segl FREDERIK R. / Mette Kierkgaard',\n",
       " 'Lov om supplerende bestemmelser til forordning om indførelse af en kulstofgrænsetilpasningsmekanisme (intro): Lov om supplerende bestemmelser til forordning om indførelse af en kulstofgrænsetilpasningsmekanisme VI FREDERIK DEN TIENDE, af Guds Nåde Danmarks Konge, gør vitterligt: Folketinget har vedtaget og Vi ved Vort samtykke stadfæstet følgende lov:',\n",
       " 'Lov om supplerende bestemmelser til forordning om indførelse af en kulstofgrænsetilpasningsmekanisme (Formål):    § 1. Loven supplerer Europa-Parlamentets og Rådets forordning om indførelse af en kulstofgrænsetilpasningsmekanisme med henblik på at sikre CBAM-forordningens anvendelse i Danmark.',\n",
       " 'Lov om supplerende bestemmelser til forordning om indførelse af en kulstofgrænsetilpasningsmekanisme (Definitioner):    § 2. I denne lov forstås ved:  1) CBAM-forordningen: Europa-Parlamentets og Rådets forordning om indførelse af en kulstofgrænsetilpasningsmekanisme.  2) CBAM: CBAM-forordningen, EU-retsakter om forhold omfattet af CBAM-forordningen samt regulering i denne lov og regler udstedt i medfør af denne lov.',\n",
       " 'Lov om supplerende bestemmelser til forordning om indførelse af en kulstofgrænsetilpasningsmekanisme (Den kompetente myndighed):    § 3. Klima-, energi- og forsyningsministeren udpeger den kompetente myndighed i henhold til CBAM-forordningen.    § 4. Klima-, energi- og forsyningsministeren er ansvarlig for de funktioner og opgaver, der påhviler den kompetente myndighed, jf. dog stk. 2.  Stk. 2. Klima-, energi- og forsyningsministeren kan efter aftale med erhvervsministeren bestemme, at erhvervsministeren er ansvarlig for den kompetente myndigheds funktioner og opgaver vedrørende autorisation samt transaktioner i CBAM-registeret. Klima-, energi- og forsyningsministeren kan i den forbindelse bemyndige erhvervsministeren til på det pågældende ansvarsområde at udøve de beføjelser, herunder fastsættelse af regler, der i denne lov er tillagt klima-, energi- og forsyningsministeren, jf. §§ 5-11, 13 og 14.',\n",
       " 'Lov om supplerende bestemmelser til forordning om indførelse af en kulstofgrænsetilpasningsmekanisme (Gebyr):    § 5. Klima-, energi- og forsyningsministeren kan fastsætte regler om gebyrer til dækning af omkostninger forbundet med varetagelsen af ministerens opgaver i henhold til CBAM.',\n",
       " 'Lov om supplerende bestemmelser til forordning om indførelse af en kulstofgrænsetilpasningsmekanisme (Tilsyn):    § 6. Klima-, energi- og forsyningsministeren fører tilsyn med overholdelsen af CBAM inden for sit ansvarsområde.',\n",
       " 'Lov om supplerende bestemmelser til forordning om indførelse af en kulstofgrænsetilpasningsmekanisme (Påbud):    § 7. Klima-, energi- og forsyningsministeren kan udstede påbud om overholdelse af CBAM inden for sit ansvarsområde.',\n",
       " 'Lov om supplerende bestemmelser til forordning om indførelse af en kulstofgrænsetilpasningsmekanisme (Oplysninger):    § 8. Den, der er omfattet af CBAM, skal efter anmodning fra klima-, energi- og forsyningsministeren give alle oplysninger, som findes nødvendige for varetagelsen af ministerens opgaver i henhold til CBAM.  Stk. 2. Klima-, energi- og forsyningsministeren kan fastsætte regler om opbevaring af oplysninger med henblik på at føre tilsyn med CBAM inden for sit ansvarsområde.    § 9. Klima-, energi- og forsyningsministeren kan ved administrationen af CBAM indhente enhver oplysning hos Skatteforvaltningen, som er nødvendig for varetagelsen af ministerens opgaver i henhold til CBAM.',\n",
       " 'Lov om supplerende bestemmelser til forordning om indførelse af en kulstofgrænsetilpasningsmekanisme (Digital kommunikation og automatisering):    § 10. Skriftlig kommunikation til og fra klima-, energi- og forsyningsministeren i forbindelse med varetagelsen af ministerens opgaver i henhold til CBAM skal foregå digitalt og under anvendelse af de it-systemer, digitale formater og identifikationsløsninger, ministeren anviser.  Stk. 2. Klima-, energi- og forsyningsministerens afgørelser om forhold omfattet af CBAM kan træffes ved hjælp af automatiseret sagsbehandling.  Stk. 3. Klima-, energi- og forsyningsministeren kan fastsætte nærmere regler om digital kommunikation og automatiseret sagsbehandling inden for sit ansvarsområde.',\n",
       " 'Lov om supplerende bestemmelser til forordning om indførelse af en kulstofgrænsetilpasningsmekanisme (Gennemførelsesforanstaltninger):    § 11. Klima-, energi- og forsyningsministeren kan fastsætte regler, der er nødvendige for at gennemføre, anvende eller håndhæve CBAM-forordningen og EU-retsakter om forhold omfattet af CBAM-forordningen inden for sit ansvarsområde.',\n",
       " 'Lov om supplerende bestemmelser til forordning om indførelse af en kulstofgrænsetilpasningsmekanisme (Klage):    § 12. Energiklagenævnet behandler klager over afgørelser truffet af klima-, energi- og forsyningsministeren i henhold til CBAM, jf. dog stk. 2.  Stk. 2. Erhvervsankenævnet behandler klager over afgørelser truffet af klima-, energi- og forsyningsministeren om autorisation i henhold til CBAM.  Stk. 3. En klage skal være indgivet skriftligt, inden 4 uger efter at afgørelsen er meddelt.  Stk. 4. Afgørelser efter stk. 1 og 2 kan ikke indbringes for anden administrativ myndighed.  Stk. 5. Afgørelser efter stk. 1 og 2 kan ikke indbringes for domstolene, før den endelige administrative afgørelse foreligger.    § 13. Klima-, energi- og forsyningsministeren kan fastsætte nærmere regler om indgivelse af klage inden for sit ansvarsområde.',\n",
       " 'Lov om supplerende bestemmelser til forordning om indførelse af en kulstofgrænsetilpasningsmekanisme (Straffebestemmelser):    § 14. Medmindre højere straf er forskyldt efter anden lovgivning, straffes med bøde den, der  1) undlader at efterkomme et påbud udstedt efter § 7 eller  2) undlader at afgive oplysninger eller afgiver urigtige eller vildledende oplysninger efter § 8, stk. 1.  Stk. 2. Klima-, energi- og forsyningsministeren kan i forskrifter, der udstedes i medfør af loven, fastsætte straf af bøde for overtrædelse af bestemmelser i forskrifterne.  Stk. 3. Klima-, energi- og forsyningsministeren fastsætter regler om straf af bøde for overtrædelse af regler fastsat i EU-retsakter om forhold omfattet af CBAM-forordningen.  Stk. 4. Der kan pålægges selskaber m.v. (juridiske personer) strafansvar efter reglerne i straffelovens 5. kapitel.',\n",
       " 'Lov om supplerende bestemmelser til forordning om indførelse af en kulstofgrænsetilpasningsmekanisme (Ikrafttrædelsesbestemmelse):    § 15. Loven træder i kraft den 1. januar 2025.',\n",
       " 'Lov om supplerende bestemmelser til forordning om indførelse af en kulstofgrænsetilpasningsmekanisme (Territorialbestemmelse):    § 16. Loven gælder ikke for Færøerne og Grønland. Givet på Christiansborg Slot, den 10. december 2024 Under Vor Kongelige Hånd og Segl FREDERIK R. / Lars Aagaard']"
      ]
     },
     "execution_count": 145,
     "metadata": {},
     "output_type": "execute_result"
    }
   ],
   "source": [
    "results"
   ]
  },
  {
   "cell_type": "code",
   "execution_count": 131,
   "id": "6cb35cf7-947b-45d5-8312-c287e28314ef",
   "metadata": {},
   "outputs": [
    {
     "data": {
      "text/plain": [
       "<p class=\"Paragraf\" id=\"idb73d4e30-a65f-4dfe-a3e4-f9ddcc7d9099\">\n",
       "<span id=\"P2\">\n",
       "</span>\n",
       "<span class=\"ParagrafNr\" id=\"Par2\">§ 2.</span> Digitaliseringsstyrelsen udpeges som kompetent myndighed, jf. artikel 13, stk. 1, i forordning om datastyring, til at udføre de opgaver, der er forbundet med anmeldelsesproceduren for dataformidlingstjenester efter kapitel III i forordning om datastyring.</p>"
      ]
     },
     "execution_count": 131,
     "metadata": {},
     "output_type": "execute_result"
    }
   ],
   "source": [
    "paragraphs[4]"
   ]
  },
  {
   "cell_type": "code",
   "execution_count": null,
   "id": "d22c2327-dbd6-4e6a-b8d2-af153916a503",
   "metadata": {},
   "outputs": [],
   "source": []
  }
 ],
 "metadata": {
  "kernelspec": {
   "display_name": "Python 3 (ipykernel)",
   "language": "python",
   "name": "python3"
  },
  "language_info": {
   "codemirror_mode": {
    "name": "ipython",
    "version": 3
   },
   "file_extension": ".py",
   "mimetype": "text/x-python",
   "name": "python",
   "nbconvert_exporter": "python",
   "pygments_lexer": "ipython3",
   "version": "3.12.0"
  }
 },
 "nbformat": 4,
 "nbformat_minor": 5
}

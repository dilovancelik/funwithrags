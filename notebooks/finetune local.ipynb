{
 "cells": [
  {
   "cell_type": "code",
   "execution_count": 26,
   "id": "1a2e6dc6-785c-4aa1-bad7-5522ca9d96f9",
   "metadata": {},
   "outputs": [],
   "source": [
    "from datasets import load_dataset\n",
    "from sentence_transformers import (\n",
    "    SentenceTransformer,\n",
    "    SentenceTransformerTrainer,\n",
    "    SentenceTransformerTrainingArguments,\n",
    ")\n",
    "from sentence_transformers.losses import MultipleNegativesRankingLoss\n",
    "from sentence_transformers.training_args import BatchSamplers\n",
    "from sentence_transformers.evaluation import TripletEvaluator\n",
    "from huggingface_hub import notebook_login\n",
    "import psycopg2 as pg\n",
    "from tqdm import tqdm"
   ]
  },
  {
   "cell_type": "code",
   "execution_count": 2,
   "id": "f0c8254f",
   "metadata": {},
   "outputs": [
    {
     "data": {
      "application/vnd.jupyter.widget-view+json": {
       "model_id": "23d89d67e2504f03af2609352bd9df20",
       "version_major": 2,
       "version_minor": 0
      },
      "text/plain": [
       "VBox(children=(HTML(value='<center> <img\\nsrc=https://huggingface.co/front/assets/huggingface_logo-noborder.sv…"
      ]
     },
     "metadata": {},
     "output_type": "display_data"
    }
   ],
   "source": [
    "notebook_login()"
   ]
  },
  {
   "cell_type": "code",
   "execution_count": 3,
   "id": "e25eb5a0-dc5d-4015-8f2a-3b8d625bc861",
   "metadata": {},
   "outputs": [],
   "source": [
    "dataset = load_dataset(\"dilovancelik/danish_law_qa\")\n",
    "dataset = dataset[\"train\"].train_test_split(test_size=0.05)\n",
    "dataset[\"validation\"] = dataset[\"test\"].remove_columns(\"context_id\")\n",
    "new_train_test = dataset[\"train\"].train_test_split(test_size=0.05)\n",
    "dataset[\"train\"] = new_train_test[\"train\"].remove_columns(\"context_id\")\n",
    "dataset[\"test\"] = new_train_test[\"test\"].remove_columns(\"context_id\")\n"
   ]
  },
  {
   "cell_type": "code",
   "execution_count": 4,
   "id": "bdc036f2-c77b-49ca-ad03-67d09bbff35a",
   "metadata": {},
   "outputs": [],
   "source": [
    "model_name = \"sentence-transformers/all-distilroberta-v1\"\n",
    "model = SentenceTransformer(model_name)\n"
   ]
  },
  {
   "cell_type": "code",
   "execution_count": 5,
   "id": "a2a3ea6e-f84c-4cda-97a5-3f0b1d7c1b90",
   "metadata": {},
   "outputs": [
    {
     "data": {
      "application/vnd.jupyter.widget-view+json": {
       "model_id": "a41c305930db4d2ea6f1c3ff38287c42",
       "version_major": 2,
       "version_minor": 0
      },
      "text/plain": [
       "Batches:   0%|          | 0/59 [00:00<?, ?it/s]"
      ]
     },
     "metadata": {},
     "output_type": "display_data"
    },
    {
     "data": {
      "application/vnd.jupyter.widget-view+json": {
       "model_id": "46715f7010454ea2939b7b1a15b24528",
       "version_major": 2,
       "version_minor": 0
      },
      "text/plain": [
       "Batches:   0%|          | 0/59 [00:00<?, ?it/s]"
      ]
     },
     "metadata": {},
     "output_type": "display_data"
    },
    {
     "data": {
      "application/vnd.jupyter.widget-view+json": {
       "model_id": "cf160e263ac54ec9a2ba56a6360554ca",
       "version_major": 2,
       "version_minor": 0
      },
      "text/plain": [
       "Batches:   0%|          | 0/59 [00:00<?, ?it/s]"
      ]
     },
     "metadata": {},
     "output_type": "display_data"
    },
    {
     "data": {
      "text/plain": [
       "{'danish_law-validator_cosine_accuracy': 0.8258547186851501}"
      ]
     },
     "execution_count": 5,
     "metadata": {},
     "output_type": "execute_result"
    }
   ],
   "source": [
    "\n",
    "evaluator_valid = TripletEvaluator(\n",
    "    anchors=dataset[\"validation\"][\"question\"],\n",
    "    positives=dataset[\"validation\"][\"context\"],\n",
    "    negatives=dataset[\"validation\"][\"neg_context\"],\n",
    "    name=\"danish_law-validator\",\n",
    "    show_progress_bar=True\n",
    ")\n",
    "evaluator_valid(model)"
   ]
  },
  {
   "cell_type": "code",
   "execution_count": 6,
   "id": "fc3c7a2a-608c-4fd4-a1b2-c5ae66d961a7",
   "metadata": {},
   "outputs": [],
   "source": [
    "loss = MultipleNegativesRankingLoss(model)"
   ]
  },
  {
   "cell_type": "code",
   "execution_count": 7,
   "id": "296ec0ef",
   "metadata": {},
   "outputs": [],
   "source": [
    "num_epochs = 1\n",
    "batch_size = 16\n",
    "lr = 2e-5\n",
    "finetuned_model_name = \"all-distilroberta-v1_danish_law_fine_tune\"\n",
    "\n",
    "train_args = SentenceTransformerTrainingArguments(\n",
    "    output_dir=f\"models/{finetuned_model_name}\",\n",
    "    num_train_epochs=num_epochs,\n",
    "    per_device_train_batch_size=batch_size,\n",
    "    per_device_eval_batch_size=batch_size,\n",
    "    learning_rate=lr,\n",
    "    warmup_ratio=0.1,\n",
    "    batch_sampler=BatchSamplers.NO_DUPLICATES,  # MultipleNegativesRankingLoss benefits from no duplicate samples in a batch\n",
    "    eval_strategy=\"steps\",\n",
    "    eval_steps=100,\n",
    "    logging_steps=100,\n",
    ")"
   ]
  },
  {
   "cell_type": "code",
   "execution_count": 8,
   "id": "95402c33-60f4-4957-9a93-1e90f20d9253",
   "metadata": {},
   "outputs": [
    {
     "data": {
      "application/vnd.jupyter.widget-view+json": {
       "model_id": "9d931ce7d0954f1da12ebef79090df1c",
       "version_major": 2,
       "version_minor": 0
      },
      "text/plain": [
       "Computing widget examples:   0%|          | 0/1 [00:00<?, ?example/s]"
      ]
     },
     "metadata": {},
     "output_type": "display_data"
    },
    {
     "data": {
      "text/html": [
       "\n",
       "    <div>\n",
       "      \n",
       "      <progress value='1056' max='1056' style='width:300px; height:20px; vertical-align: middle;'></progress>\n",
       "      [1056/1056 35:51, Epoch 1/1]\n",
       "    </div>\n",
       "    <table border=\"1\" class=\"dataframe\">\n",
       "  <thead>\n",
       " <tr style=\"text-align: left;\">\n",
       "      <th>Step</th>\n",
       "      <th>Training Loss</th>\n",
       "      <th>Validation Loss</th>\n",
       "      <th>Danish Law-validator Cosine Accuracy</th>\n",
       "    </tr>\n",
       "  </thead>\n",
       "  <tbody>\n",
       "    <tr>\n",
       "      <td>100</td>\n",
       "      <td>1.522000</td>\n",
       "      <td>1.010324</td>\n",
       "      <td>0.949786</td>\n",
       "    </tr>\n",
       "    <tr>\n",
       "      <td>200</td>\n",
       "      <td>1.099100</td>\n",
       "      <td>0.858892</td>\n",
       "      <td>0.957265</td>\n",
       "    </tr>\n",
       "    <tr>\n",
       "      <td>300</td>\n",
       "      <td>0.975900</td>\n",
       "      <td>0.804419</td>\n",
       "      <td>0.965812</td>\n",
       "    </tr>\n",
       "    <tr>\n",
       "      <td>400</td>\n",
       "      <td>0.850000</td>\n",
       "      <td>0.761589</td>\n",
       "      <td>0.965812</td>\n",
       "    </tr>\n",
       "    <tr>\n",
       "      <td>500</td>\n",
       "      <td>0.836900</td>\n",
       "      <td>0.736278</td>\n",
       "      <td>0.972222</td>\n",
       "    </tr>\n",
       "    <tr>\n",
       "      <td>600</td>\n",
       "      <td>0.828400</td>\n",
       "      <td>0.693604</td>\n",
       "      <td>0.971154</td>\n",
       "    </tr>\n",
       "    <tr>\n",
       "      <td>700</td>\n",
       "      <td>0.874700</td>\n",
       "      <td>0.679393</td>\n",
       "      <td>0.970085</td>\n",
       "    </tr>\n",
       "    <tr>\n",
       "      <td>800</td>\n",
       "      <td>0.761500</td>\n",
       "      <td>0.673524</td>\n",
       "      <td>0.970085</td>\n",
       "    </tr>\n",
       "    <tr>\n",
       "      <td>900</td>\n",
       "      <td>0.786200</td>\n",
       "      <td>0.665091</td>\n",
       "      <td>0.973291</td>\n",
       "    </tr>\n",
       "    <tr>\n",
       "      <td>1000</td>\n",
       "      <td>0.749000</td>\n",
       "      <td>0.663845</td>\n",
       "      <td>0.972222</td>\n",
       "    </tr>\n",
       "  </tbody>\n",
       "</table><p>"
      ],
      "text/plain": [
       "<IPython.core.display.HTML object>"
      ]
     },
     "metadata": {},
     "output_type": "display_data"
    },
    {
     "data": {
      "application/vnd.jupyter.widget-view+json": {
       "model_id": "bc045336af3a443197fa3565ceedafc5",
       "version_major": 2,
       "version_minor": 0
      },
      "text/plain": [
       "Batches:   0%|          | 0/59 [00:00<?, ?it/s]"
      ]
     },
     "metadata": {},
     "output_type": "display_data"
    },
    {
     "data": {
      "application/vnd.jupyter.widget-view+json": {
       "model_id": "9de38e32d81d47f386b8e33df8a2082c",
       "version_major": 2,
       "version_minor": 0
      },
      "text/plain": [
       "Batches:   0%|          | 0/59 [00:00<?, ?it/s]"
      ]
     },
     "metadata": {},
     "output_type": "display_data"
    },
    {
     "data": {
      "application/vnd.jupyter.widget-view+json": {
       "model_id": "57bedef1c15d4fec91812d002166f67e",
       "version_major": 2,
       "version_minor": 0
      },
      "text/plain": [
       "Batches:   0%|          | 0/59 [00:00<?, ?it/s]"
      ]
     },
     "metadata": {},
     "output_type": "display_data"
    },
    {
     "data": {
      "application/vnd.jupyter.widget-view+json": {
       "model_id": "260391f6c13d47009e39b3136ecf7e09",
       "version_major": 2,
       "version_minor": 0
      },
      "text/plain": [
       "Batches:   0%|          | 0/59 [00:00<?, ?it/s]"
      ]
     },
     "metadata": {},
     "output_type": "display_data"
    },
    {
     "data": {
      "application/vnd.jupyter.widget-view+json": {
       "model_id": "7e3f148e7ff04ff3a39b603e88d725ac",
       "version_major": 2,
       "version_minor": 0
      },
      "text/plain": [
       "Batches:   0%|          | 0/59 [00:00<?, ?it/s]"
      ]
     },
     "metadata": {},
     "output_type": "display_data"
    },
    {
     "data": {
      "application/vnd.jupyter.widget-view+json": {
       "model_id": "ba579aa2283345e7a432c62a1e2333d4",
       "version_major": 2,
       "version_minor": 0
      },
      "text/plain": [
       "Batches:   0%|          | 0/59 [00:00<?, ?it/s]"
      ]
     },
     "metadata": {},
     "output_type": "display_data"
    },
    {
     "data": {
      "application/vnd.jupyter.widget-view+json": {
       "model_id": "c4adc68d155a4e0e819aa98024cfe775",
       "version_major": 2,
       "version_minor": 0
      },
      "text/plain": [
       "Batches:   0%|          | 0/59 [00:00<?, ?it/s]"
      ]
     },
     "metadata": {},
     "output_type": "display_data"
    },
    {
     "data": {
      "application/vnd.jupyter.widget-view+json": {
       "model_id": "1db6894314844f16bdf6b7f95891d41b",
       "version_major": 2,
       "version_minor": 0
      },
      "text/plain": [
       "Batches:   0%|          | 0/59 [00:00<?, ?it/s]"
      ]
     },
     "metadata": {},
     "output_type": "display_data"
    },
    {
     "data": {
      "application/vnd.jupyter.widget-view+json": {
       "model_id": "8221f67de60d4330a07fee1067fe38cf",
       "version_major": 2,
       "version_minor": 0
      },
      "text/plain": [
       "Batches:   0%|          | 0/59 [00:00<?, ?it/s]"
      ]
     },
     "metadata": {},
     "output_type": "display_data"
    },
    {
     "data": {
      "application/vnd.jupyter.widget-view+json": {
       "model_id": "e310d6eb42cc41b990aa10e3edee20cc",
       "version_major": 2,
       "version_minor": 0
      },
      "text/plain": [
       "Batches:   0%|          | 0/59 [00:00<?, ?it/s]"
      ]
     },
     "metadata": {},
     "output_type": "display_data"
    },
    {
     "data": {
      "application/vnd.jupyter.widget-view+json": {
       "model_id": "a5213c7c696746778b57720266391f15",
       "version_major": 2,
       "version_minor": 0
      },
      "text/plain": [
       "Batches:   0%|          | 0/59 [00:00<?, ?it/s]"
      ]
     },
     "metadata": {},
     "output_type": "display_data"
    },
    {
     "data": {
      "application/vnd.jupyter.widget-view+json": {
       "model_id": "9ce43b705ba944f2a1b97ad1e9a07249",
       "version_major": 2,
       "version_minor": 0
      },
      "text/plain": [
       "Batches:   0%|          | 0/59 [00:00<?, ?it/s]"
      ]
     },
     "metadata": {},
     "output_type": "display_data"
    },
    {
     "data": {
      "application/vnd.jupyter.widget-view+json": {
       "model_id": "0e3a5fbb29cd4c6b901bba2fba701257",
       "version_major": 2,
       "version_minor": 0
      },
      "text/plain": [
       "Batches:   0%|          | 0/59 [00:00<?, ?it/s]"
      ]
     },
     "metadata": {},
     "output_type": "display_data"
    },
    {
     "data": {
      "application/vnd.jupyter.widget-view+json": {
       "model_id": "953f2b0a00a243f295c6488c3246f97d",
       "version_major": 2,
       "version_minor": 0
      },
      "text/plain": [
       "Batches:   0%|          | 0/59 [00:00<?, ?it/s]"
      ]
     },
     "metadata": {},
     "output_type": "display_data"
    },
    {
     "data": {
      "application/vnd.jupyter.widget-view+json": {
       "model_id": "62557ae7429d4928913305ef0b1e3434",
       "version_major": 2,
       "version_minor": 0
      },
      "text/plain": [
       "Batches:   0%|          | 0/59 [00:00<?, ?it/s]"
      ]
     },
     "metadata": {},
     "output_type": "display_data"
    },
    {
     "data": {
      "application/vnd.jupyter.widget-view+json": {
       "model_id": "9b29a49b59094cc2ad02d6d16c0fa926",
       "version_major": 2,
       "version_minor": 0
      },
      "text/plain": [
       "Batches:   0%|          | 0/59 [00:00<?, ?it/s]"
      ]
     },
     "metadata": {},
     "output_type": "display_data"
    },
    {
     "data": {
      "application/vnd.jupyter.widget-view+json": {
       "model_id": "3d8c2c40086446899d5c7ed74b7995c9",
       "version_major": 2,
       "version_minor": 0
      },
      "text/plain": [
       "Batches:   0%|          | 0/59 [00:00<?, ?it/s]"
      ]
     },
     "metadata": {},
     "output_type": "display_data"
    },
    {
     "data": {
      "application/vnd.jupyter.widget-view+json": {
       "model_id": "1a6d8a4810254de5a7ce4dbf6b4780e4",
       "version_major": 2,
       "version_minor": 0
      },
      "text/plain": [
       "Batches:   0%|          | 0/59 [00:00<?, ?it/s]"
      ]
     },
     "metadata": {},
     "output_type": "display_data"
    },
    {
     "data": {
      "application/vnd.jupyter.widget-view+json": {
       "model_id": "0b72c93e086d4ce28ddd1768b9305572",
       "version_major": 2,
       "version_minor": 0
      },
      "text/plain": [
       "Batches:   0%|          | 0/59 [00:00<?, ?it/s]"
      ]
     },
     "metadata": {},
     "output_type": "display_data"
    },
    {
     "data": {
      "application/vnd.jupyter.widget-view+json": {
       "model_id": "3374217fa7da49f29d39c4a5f7391a2f",
       "version_major": 2,
       "version_minor": 0
      },
      "text/plain": [
       "Batches:   0%|          | 0/59 [00:00<?, ?it/s]"
      ]
     },
     "metadata": {},
     "output_type": "display_data"
    },
    {
     "data": {
      "application/vnd.jupyter.widget-view+json": {
       "model_id": "9fb5546cdbbd4eafbc82dcdf1522b728",
       "version_major": 2,
       "version_minor": 0
      },
      "text/plain": [
       "Batches:   0%|          | 0/59 [00:00<?, ?it/s]"
      ]
     },
     "metadata": {},
     "output_type": "display_data"
    },
    {
     "data": {
      "application/vnd.jupyter.widget-view+json": {
       "model_id": "5dfefec6abd24be5a1d1d5a46c651883",
       "version_major": 2,
       "version_minor": 0
      },
      "text/plain": [
       "Batches:   0%|          | 0/59 [00:00<?, ?it/s]"
      ]
     },
     "metadata": {},
     "output_type": "display_data"
    },
    {
     "data": {
      "application/vnd.jupyter.widget-view+json": {
       "model_id": "11bd7ec176bb4f2381574247b28c03bb",
       "version_major": 2,
       "version_minor": 0
      },
      "text/plain": [
       "Batches:   0%|          | 0/59 [00:00<?, ?it/s]"
      ]
     },
     "metadata": {},
     "output_type": "display_data"
    },
    {
     "data": {
      "application/vnd.jupyter.widget-view+json": {
       "model_id": "7367facb3bf44374887c2eb971cfbc8c",
       "version_major": 2,
       "version_minor": 0
      },
      "text/plain": [
       "Batches:   0%|          | 0/59 [00:00<?, ?it/s]"
      ]
     },
     "metadata": {},
     "output_type": "display_data"
    },
    {
     "data": {
      "application/vnd.jupyter.widget-view+json": {
       "model_id": "d5c78d68acb14510bcccf330124ba4a1",
       "version_major": 2,
       "version_minor": 0
      },
      "text/plain": [
       "Batches:   0%|          | 0/59 [00:00<?, ?it/s]"
      ]
     },
     "metadata": {},
     "output_type": "display_data"
    },
    {
     "data": {
      "application/vnd.jupyter.widget-view+json": {
       "model_id": "c67d74ba78df456b8c714124f9930874",
       "version_major": 2,
       "version_minor": 0
      },
      "text/plain": [
       "Batches:   0%|          | 0/59 [00:00<?, ?it/s]"
      ]
     },
     "metadata": {},
     "output_type": "display_data"
    },
    {
     "data": {
      "application/vnd.jupyter.widget-view+json": {
       "model_id": "cd442207d6d1460f95d09586dac139db",
       "version_major": 2,
       "version_minor": 0
      },
      "text/plain": [
       "Batches:   0%|          | 0/59 [00:00<?, ?it/s]"
      ]
     },
     "metadata": {},
     "output_type": "display_data"
    },
    {
     "data": {
      "application/vnd.jupyter.widget-view+json": {
       "model_id": "9cccaa7184104f829f9e7e68fe602a0b",
       "version_major": 2,
       "version_minor": 0
      },
      "text/plain": [
       "Batches:   0%|          | 0/59 [00:00<?, ?it/s]"
      ]
     },
     "metadata": {},
     "output_type": "display_data"
    },
    {
     "data": {
      "application/vnd.jupyter.widget-view+json": {
       "model_id": "38693b59aa11412ca3399116f371e898",
       "version_major": 2,
       "version_minor": 0
      },
      "text/plain": [
       "Batches:   0%|          | 0/59 [00:00<?, ?it/s]"
      ]
     },
     "metadata": {},
     "output_type": "display_data"
    },
    {
     "data": {
      "application/vnd.jupyter.widget-view+json": {
       "model_id": "d2bbcda9b73942e69f1d0dafae1a754b",
       "version_major": 2,
       "version_minor": 0
      },
      "text/plain": [
       "Batches:   0%|          | 0/59 [00:00<?, ?it/s]"
      ]
     },
     "metadata": {},
     "output_type": "display_data"
    },
    {
     "data": {
      "text/plain": [
       "TrainOutput(global_step=1056, training_loss=0.9202810851010409, metrics={'train_runtime': 2154.5584, 'train_samples_per_second': 7.839, 'train_steps_per_second': 0.49, 'total_flos': 0.0, 'train_loss': 0.9202810851010409, 'epoch': 1.0})"
      ]
     },
     "execution_count": 8,
     "metadata": {},
     "output_type": "execute_result"
    }
   ],
   "source": [
    "\n",
    "trainer = SentenceTransformerTrainer(\n",
    "    model=model,\n",
    "    args=train_args,\n",
    "    train_dataset=dataset[\"train\"],\n",
    "    eval_dataset=dataset[\"validation\"],\n",
    "    loss=loss,\n",
    "    evaluator=evaluator_valid,\n",
    ")\n",
    "trainer.train()"
   ]
  },
  {
   "cell_type": "code",
   "execution_count": 10,
   "id": "d0d4862b-47f4-4ce1-bd8b-cb5955c77918",
   "metadata": {},
   "outputs": [
    {
     "data": {
      "application/vnd.jupyter.widget-view+json": {
       "model_id": "cb54fa165e3044eaaa9a6d423c57e136",
       "version_major": 2,
       "version_minor": 0
      },
      "text/plain": [
       "Batches:   0%|          | 0/59 [00:00<?, ?it/s]"
      ]
     },
     "metadata": {},
     "output_type": "display_data"
    },
    {
     "data": {
      "application/vnd.jupyter.widget-view+json": {
       "model_id": "21d5295a5977479aa5c6478e99051a16",
       "version_major": 2,
       "version_minor": 0
      },
      "text/plain": [
       "Batches:   0%|          | 0/59 [00:00<?, ?it/s]"
      ]
     },
     "metadata": {},
     "output_type": "display_data"
    },
    {
     "data": {
      "application/vnd.jupyter.widget-view+json": {
       "model_id": "d95216b2b2fa4c2c9e58250cfdda878e",
       "version_major": 2,
       "version_minor": 0
      },
      "text/plain": [
       "Batches:   0%|          | 0/59 [00:00<?, ?it/s]"
      ]
     },
     "metadata": {},
     "output_type": "display_data"
    },
    {
     "name": "stdout",
     "output_type": "stream",
     "text": [
      "Validation: {'danish_law-validator_cosine_accuracy': 0.9732906222343445}\n",
      "Test: {'ai-job-test_cosine_accuracy': 0.9718785285949707}\n"
     ]
    }
   ],
   "source": [
    "evaluator_test = TripletEvaluator(\n",
    "    anchors=dataset[\"test\"][\"question\"],\n",
    "    positives=dataset[\"test\"][\"context\"],\n",
    "    negatives=dataset[\"test\"][\"neg_context\"],\n",
    "    name=\"danish_law-test\",\n",
    ")\n",
    "print(\"Validation:\", evaluator_valid(model))\n",
    "print(\"Test:\", evaluator_test(model))"
   ]
  },
  {
   "cell_type": "code",
   "execution_count": 11,
   "id": "f71dcb57-5d3a-4011-bb8b-41a5bb852b7e",
   "metadata": {},
   "outputs": [
    {
     "data": {
      "application/vnd.jupyter.widget-view+json": {
       "model_id": "4ca9db74501a4fdd8ae8610d2d7e39c0",
       "version_major": 2,
       "version_minor": 0
      },
      "text/plain": [
       "model.safetensors:   0%|          | 0.00/328M [00:00<?, ?B/s]"
      ]
     },
     "metadata": {},
     "output_type": "display_data"
    },
    {
     "data": {
      "text/plain": [
       "'https://huggingface.co/dilovancelik/all-distilroberta-v1_danish_law_fine_tune/commit/3518809092b2ce03fa813ad0eb356356ccb2de02'"
      ]
     },
     "execution_count": 11,
     "metadata": {},
     "output_type": "execute_result"
    }
   ],
   "source": [
    "model.push_to_hub(f\"dilovancelik/{finetuned_model_name}\")"
   ]
  },
  {
   "cell_type": "code",
   "execution_count": 56,
   "id": "424169df-730f-44ac-b5bb-f501084e650b",
   "metadata": {},
   "outputs": [],
   "source": [
    "def embed_documents(document, embedding):\n",
    "    conn = pg.connect(\"dbname=vector_rag user=postgres password=postgres\")\n",
    "    conn.autocommit = True\n",
    "    cur = conn.cursor()\n",
    "    cur.execute(\n",
    "        \"INSERT INTO law_embeddings (context, embedding) VALUES (%s, %s)\",\n",
    "        (document, embedding),\n",
    "    )\n",
    "    cur.close()\n",
    "    conn.close()\n"
   ]
  },
  {
   "cell_type": "code",
   "execution_count": 41,
   "id": "2504f223-a001-42a5-92d7-335446bf07fa",
   "metadata": {},
   "outputs": [],
   "source": [
    "with open(\"documents.csv\", \"r\") as f:\n",
    "    documents = f.readlines()"
   ]
  },
  {
   "cell_type": "code",
   "execution_count": 57,
   "id": "d22d3138-8688-4e84-8279-dee355897647",
   "metadata": {},
   "outputs": [
    {
     "name": "stderr",
     "output_type": "stream",
     "text": [
      "generating questions: 100%|█████████████████████████████████████████████████████████████████████████| 3216/3216 [09:13<00:00,  5.81it/s]\n"
     ]
    }
   ],
   "source": [
    "\n",
    "with tqdm(total = len(documents), desc=\"generating questions\") as pbar:\n",
    "    for document in documents:\n",
    "        embedding = model.encode(document).tolist()\n",
    "        embed_documents(document, str(embedding))\n",
    "        pbar.update(1)"
   ]
  },
  {
   "cell_type": "code",
   "execution_count": 58,
   "id": "f3fbf8c6-7b25-460e-afe3-7281b97a9abe",
   "metadata": {},
   "outputs": [
    {
     "name": "stdout",
     "output_type": "stream",
     "text": [
      "finished embedding\n",
      "[('Lov om ombygning af Aarhus H (intro): Lov om ombygning af Aarhus H VI MARGRETHE DEN ANDEN, af Guds Nåde Danmarks Dronning, gør vitterligt: Folketinget har vedtaget og Vi ved Vort samtykke stadfæstet følgende lov:\\n',), ('Lov om ombygning af Aarhus H (Kapitel 2):  Miljømæssige vurderinger     § 2. Anlægsprojektet nævnt i § 1 skal gennemføres inden for rammerne af de udførte vurderinger af projektets indvirkninger på miljøet, jf. dog § 5, stk. 1.\\n',), ('Lov om ombygning af Aarhus H (Kapitel 8):  Ikrafttræden     § 14. Loven træder i kraft den 1. juli 2022.\\n',), ('Lov om ombygning af Aarhus H (Kapitel 9):  Ændringer i anden lovgivning   § 15. I ligningsloven, jf. lovbekendtgørelse nr. 1735 af 17. august 2021, som ændret bl.a. ved § 3 i lov nr. 2397 af 14. december 2021 og senest ved § 2 i lov nr. 2613 af 28. december 2021, foretages følgende ændring:  1. I § 7 indsættes som nr. 38:  »38) Kompensation og beløb ydet for gener og ulemper eller i forbindelse med genhusning efter regler fastsat i medfør af § 7, stk. 1 og 2, i lov om ombygning af Aarhus H.« Givet på Christiansborg Slot, den 10. maj 2022 Under Vor Kongelige Hånd og Segl MARGRETHE R. / Trine Bramsen\\n',), ('Lov om udbygning af Fynske Motorvej mellem Odense Vest og Middelfart (intro): Lov om udbygning af Fynske Motorvej mellem Odense Vest og Middelfart VI MARGRETHE DEN ANDEN, af Guds Nåde Danmarks Dronning, gør vitterligt: Folketinget har vedtaget og Vi ved Vort samtykke stadfæstet følgende lov: §\\xa01. Transportministeren bemyndiges til at udbygge hovedlandevej 40, Fynske Motorvej (E20), på strækningen mellem Odense Vest og Middelfart fra fire til seks spor. Stk.\\xa02. Strækningen, der omfattes af udbygningen, fremgår af bilag 1. §\\xa02. På den i §\\xa01 nævnte strækning kan der pålægges byggelinjer med en indbyrdes afstand på op til 120 m. Reglerne om byggelinjer i lov om offentlige veje finder tilsvarende anvendelse på byggelinjer pålagt i medfør af denne lov. §\\xa03. Transportministeren kan i særlige tilfælde efter anmodning fra ejeren ekspropriere en ejendom, der berøres særligt indgribende af det i loven nævnte projekt, før tidspunktet for de ordinære ekspropriationer. Stk.\\xa02. Erstatningen fastsættes af ekspropriations- og taksationsmyndighederne i henhold til lov om fremgangsmåden ved ekspropriationer vedrørende fast ejendom. §\\xa04. Loven træder i kraft dagen efter bekendtgørelsen i Lovtidende. Givet på Christiansborg Slot, den 26. maj 2010 Under Vor Kongelige Hånd og Segl MARGRETHE R. / Hans Christian Schmidt\\n',), ('Lov om til- og ombygning m.v. af Nationalmuseet (intro):  \\xa0\\xa0\\xa0\\xa0VI MARGRETHE DEN ANDEN, af Guds Nåde Danmarks Dronning,     gør vitterligt: Folketinget har vedtaget og Vi ved Vort samtykke stadfæstet     følgende lov:  \\xa0\\xa0\\xa0\\xa0 Stk. 1.  Ministeren for kulturelle anliggender kan med     henblik på en modernisering og udbygning af Nationalmuseet anvende 150 mill.     kr. (prisniveau januar 1984) til om- og tilbygningsarbejder m.v. på     Nationalmuseet, heraf 10 mill. kr. i 1986 og 140 mill. kr. i de følgende     finansår til programmering, projektering og gennemførelse af byggearbejderne     m.v.  \\xa0\\xa0\\xa0\\xa0 Stk. 2.  Anvendelse af bevillingerne efter stk. 1 er     betinget af, at Nationalmuseet fra anden side opnår tilskud til     byggearbejderne m.v. på mindst 100 mill. kr.   Givet på Christiansborg slot, den 4.     juni 1986   Under Vor Kongelige Hånd og Segl  MARGRETHE R.  \\xa0\\xa0\\xa0\\xa0/H. P. Clausen  Ingen \\n',), ('Lov om ombygning af Aarhus H (Kapitel 6):  Domstolsprøvelse     § 12. Søgsmål til prøvelse af afgørelser efter denne lov og forskrifter udstedt i medfør af loven skal være anlagt, inden 6 måneder efter at afgørelsen er meddelt adressaten og offentliggjort.  Stk. 2. Ved søgsmål om miljøforhold, der er omfattet af denne lov, skal retten påse, at omkostningerne ved sagen ikke er uoverkommeligt høje for de berørte parter.\\n',), ('Lov om udbygning af Køge Bugt Motorvejen mellem Greve Syd og Køge (intro): Lov om udbygning af Køge Bugt Motorvejen mellem Greve Syd og Køge VI MARGRETHE DEN ANDEN, af Guds Nåde Danmarks Dronning, gør vitterligt: Folketinget har vedtaget og Vi ved Vort samtykke stadfæstet følgende lov:  §\\xa01. Transportministeren bemyndiges til at udbygge hovedlandevej 10, Køge Bugt Motorvejen (E20, E47), mellem afslutningen af den eksisterende ottesporede strækning ved tilslutningsanlæg 29, Greve Syd, og sammenfletningen mellem Sydmotorvejen og Vestmotorvejen ved Køge, fra seks til otte spor.  Stk.\\xa02. Strækningen, der omfattes af udbygningen, fremgår af lovens bilag 1.  §\\xa02. På den i §\\xa01 nævnte strækning kan der pålægges byggelinjer med en indbyrdes afstand på op til 120 m. Reglerne om byggelinjer i lov om offentlige veje finder tilsvarende anvendelse på byggelinjer pålagt i medfør af denne lov.  §\\xa03. Transportministeren kan i særlige tilfælde efter anmodning fra ejeren ekspropriere en ejendom, der berøres særlig indgribende af det i loven nævnte projekt, før tidspunktet for de ordinære ekspropriationer.  Stk.\\xa02. Erstatningen fastsættes af ekspropriations- og taksationsmyndighederne i lov om fremgangsmåden ved ekspropriation vedrørende fast ejendom.  §\\xa04. Loven træder i kraft dagen efter bekendtgørelsen i Lovtidende. Givet på Christiansborg Slot, den 21. december 2010 Under Vor Kongelige Hånd og Segl MARGRETHE R. / Hans Christian Schmidt\\n',), ('Lov om udbygning af rute 11 mellem Korskro og Varde1) (intro): Lov om udbygning af rute 11 mellem Korskro og Varde1) VI FREDERIK DEN TIENDE, af Guds Nåde Danmarks Konge, gør vitterligt: Folketinget har vedtaget og Vi ved Vort samtykke stadfæstet følgende lov:\\n',), ('Lov om udbygning af rute 11 mellem Korskro og Varde1) (intro): Lov om udbygning af rute 11 mellem Korskro og Varde1) VI FREDERIK DEN TIENDE, af Guds Nåde Danmarks Konge, gør vitterligt: Folketinget har vedtaget og Vi ved Vort samtykke stadfæstet følgende lov:\\n',)]\n"
     ]
    }
   ],
   "source": [
    "#query = input(\"Hvilken lov vil du gerne søge efter\\n\")\n",
    "query = \"Hvad siger loven om hvor man må bygge hus\"\n",
    "emb = model.encode(query).tolist()\n",
    "print(\"finished embedding\")\n",
    "\n",
    "conn = pg.connect(\"dbname=vector_rag user=postgres password=postgres\")\n",
    "conn.autocommit = True\n",
    "cur = conn.cursor()\n",
    "\n",
    "cur.execute(\n",
    "    \"SELECT context FROM law_embeddings ORDER BY embedding <=> %s::vector LIMIT 10;\",\n",
    "    (str(emb),),\n",
    ")\n",
    "\n",
    "result = cur.fetchall()\n",
    "print(result)\n",
    "\n",
    "cur.close()\n",
    "conn.close()\n"
   ]
  },
  {
   "cell_type": "code",
   "execution_count": 70,
   "id": "f24b3c23-e355-4f7e-8aff-a7e55bc6e266",
   "metadata": {},
   "outputs": [],
   "source": [
    "from llama_index.llms.ollama import Ollama"
   ]
  },
  {
   "cell_type": "code",
   "execution_count": 88,
   "id": "af0360e0-4ff9-4679-b5b5-e6360ae658c2",
   "metadata": {},
   "outputs": [],
   "source": [
    "\n",
    "PROMPT_TEMPLATE = \"\"\"\\\n",
    "Kontekst er nedenfor.\n",
    "\n",
    "---------------------\n",
    "{context_str}\n",
    "---------------------\n",
    "\n",
    "Givet den givne kontekst vælg de 5 mest relevante love og besvar nedenstående forespørgsel:\n",
    "\n",
    "Du er en advokat / jurist. Du er blevet spurgt følgende. Fortæl gerne hvis en lov er relevant, men ikke hvis den ikke er: \\\n",
    "\n",
    "{question}  \\\n",
    "\n",
    "\"\"\"\n"
   ]
  },
  {
   "cell_type": "code",
   "execution_count": 79,
   "id": "ade88ff1-8cb5-4757-bbd6-f308b466d478",
   "metadata": {},
   "outputs": [
    {
     "name": "stdout",
     "output_type": "stream",
     "text": [
      "finished embedding\n",
      "Ja, det kan der. Det er tilladt at nedlægge et opholdsforbud i Danmark i henhold til Lov om tilhold (Lov nr. 315 af 1958).\n"
     ]
    }
   ],
   "source": [
    "#query = input(\"Hvilken lov vil du gerne søge efter\\n\")\n",
    "query = \"kan der nedlægges opholdsforbud i danmark\"\n",
    "emb = model.encode(query).tolist()\n",
    "print(\"finished embedding\")\n",
    "\n",
    "conn = pg.connect(\"dbname=vector_rag user=postgres password=postgres\")\n",
    "conn.autocommit = True\n",
    "cur = conn.cursor()\n",
    "\n",
    "cur.execute(\n",
    "    \"SELECT context FROM law_embeddings ORDER BY embedding <=> %s::vector LIMIT 20;\",\n",
    "    (str(emb),),\n",
    ")\n",
    "\n",
    "result = cur.fetchall()\n",
    "\n",
    "contekst = \"\\n\".join([r[0] for r in result])\n",
    "\n",
    "prompt = PROMPT_TEMPLATE.format(context_str=contekst, question=query)\n",
    "\n",
    "cur.close()\n",
    "conn.close()\n",
    "\n",
    "res = llm.complete(prompt)\n",
    "print(res)"
   ]
  },
  {
   "cell_type": "code",
   "execution_count": 68,
   "id": "6a502885-dee4-4091-8f70-7512de46c817",
   "metadata": {},
   "outputs": [
    {
     "data": {
      "text/plain": [
       "'Kontekst er nedenfor.\\n\\n---------------------\\nHallo\\n---------------------\\n\\nGivet den givne kontekst og ingen anden viden.\\nSvar på nedenstående forespørgsel.\\n\\nDu er en advokat / jurist. Du er blevet spurgt følgende: \\nHej  '"
      ]
     },
     "execution_count": 68,
     "metadata": {},
     "output_type": "execute_result"
    }
   ],
   "source": [
    "PROMPT_TEMPLATE.format(context_str=\"Hallo\", question=\"Hej\")"
   ]
  },
  {
   "cell_type": "code",
   "execution_count": 71,
   "id": "8c27bfa9-7bd9-4b89-bfc3-4b2ad02f38d0",
   "metadata": {},
   "outputs": [],
   "source": [
    "llm = Ollama(model=\"llama3\")"
   ]
  },
  {
   "cell_type": "code",
   "execution_count": 80,
   "id": "e7886f18-c559-4c0b-bb9d-3c51f40c0245",
   "metadata": {},
   "outputs": [
    {
     "name": "stdout",
     "output_type": "stream",
     "text": [
      "finished embedding\n",
      "Ja, det kan der. Ifølge lov om tilhold ( Lov nr. 335 af 7. juni 1999), kan ministeren for offentlige arbejder bemyndiges til at undlade at foretage opkrævning af de i medfør af § 4 i loven om ordning af afløbsforholdene ved Ringkøbing Fjord m.m. omhandlede lodsejerbidrag, som endnu ikke er indbetalt til statskassen (§ 1 i Lov nr. 141 af 30. marts 1942).\n"
     ]
    }
   ],
   "source": [
    "#query = input(\"Hvilken lov vil du gerne søge efter\\n\")\n",
    "query = \"kan der nedlægges opholdsforbud i danmark\"\n",
    "emb = model.encode(query).tolist()\n",
    "print(\"finished embedding\")\n",
    "\n",
    "conn = pg.connect(\"dbname=vector_rag user=postgres password=postgres\")\n",
    "conn.autocommit = True\n",
    "cur = conn.cursor()\n",
    "\n",
    "cur.execute(\n",
    "    \"SELECT context FROM law_embeddings ORDER BY embedding <=> %s::vector LIMIT 20;\",\n",
    "    (str(emb),),\n",
    ")\n",
    "\n",
    "result = cur.fetchall()\n",
    "\n",
    "contekst = \"\\n\".join([r[0] for r in result])\n",
    "\n",
    "prompt = PROMPT_TEMPLATE.format(context_str=contekst, question=query)\n",
    "\n",
    "cur.close()\n",
    "conn.close()\n",
    "\n",
    "res = llm.complete(prompt)\n",
    "print(res)"
   ]
  },
  {
   "cell_type": "code",
   "execution_count": 90,
   "id": "ae318c7c-7f9c-484a-87a4-feb3be4847d7",
   "metadata": {},
   "outputs": [
    {
     "name": "stdout",
     "output_type": "stream",
     "text": [
      "finished embedding\n",
      "Efter at have læst de givne love og konteksten, kan jeg konkludere, at der ikke er nogen relevante love, der handler om anvendelse af pistoler i Danmark. Derimod kan jeg fortælle dig, at Lov om Danmarks tiltrædelse af De europæiske Fællesskaber (Tiltrædelsesloven) og Lov om Danpilot (Kapitel 8) ikke er relevante for dit spørgsmål.\n",
      "\n",
      "Derimod kan jeg give dig en generel oplysning, nemlig at Danmark har strenge lover om våben i almindelighed. I Danmark kræves et tilladelse fra politiet og andre myndigheder for at indehabe eller anvende våben, herunder pistoler. Derudover er der begrænsninger for, hvem der kan indehave eller anvende våben, og der er strenge regler om sikkerhed og lagring af våben.\n",
      "\n",
      "Hvis du har yderligere spørgsmål eller ønsker at vide mere om anvendelse af pistoler i Danmark, vil jeg være glad for at hjælpe.\n"
     ]
    }
   ],
   "source": [
    "#query = input(\"Hvilken lov vil du gerne søge efter\\n\")\n",
    "query = \"Må man have en pistol i Danmark\"\n",
    "emb = model.encode(query).tolist()\n",
    "print(\"finished embedding\")\n",
    "\n",
    "conn = pg.connect(\"dbname=vector_rag user=postgres password=postgres\")\n",
    "conn.autocommit = True\n",
    "cur = conn.cursor()\n",
    "\n",
    "cur.execute(\n",
    "    \"SELECT context FROM law_embeddings ORDER BY embedding <=> %s::vector LIMIT 20;\",\n",
    "    (str(emb),),\n",
    ")\n",
    "\n",
    "result = cur.fetchall()\n",
    "\n",
    "contekst = \"\\n\\n\\n\".join([r[0] for r in result])\n",
    "\n",
    "prompt = PROMPT_TEMPLATE.format(context_str=contekst, question=query)\n",
    "\n",
    "cur.close()\n",
    "conn.close()\n",
    "\n",
    "res = llm.complete(prompt)\n",
    "print(res)"
   ]
  },
  {
   "cell_type": "code",
   "execution_count": 94,
   "id": "d971145c-5ca7-4f20-9b72-74e485c5b66b",
   "metadata": {},
   "outputs": [
    {
     "name": "stdout",
     "output_type": "stream",
     "text": [
      "finished embedding\n",
      "Basert på den givne kontekst, har jeg valgt de 5 mest relevante love og besvaret spørsmålet. Her er mine valg:\n",
      "\n",
      "1. Lov om bekæmpelse af ungdomskriminalitet: Denne lov er relevant fordi den omhandler bekæmpelse af organiseret kriminalitet blandt unges.\n",
      "2. Lov om Institut for Menneskerettigheder – Danmarks Nationale Menneskerettighedsinstitution1): Denne lov er relevant fordi den omhandler institutionens rolle i beskyttelse og fremme af menneskerettigheder, herunder retten til ligebehandling og frihed fra diskrimination.\n",
      "3. Lov om Danmarks tiltrædelse af De europæiske Fællesskaber (Tiltrædelsesloven): Denne lov er relevant fordi den omhandler Danmarks medlemskab i Europæiske Fællesskaber, hvilket kan påvirke bekæmpelsen af organiseret kriminalitet.\n",
      "4. Lov om ungdomskontakt: Denne lov er ikke relevant, da den ikke handler om organiseret kriminalitet.\n",
      "5. Lov om lommepengejob: Denne lov er ikke relevant, da den ikke handler om organiseret kriminalitet.\n",
      "\n",
      "I forhold til organiseret kriminalitet siger loven i \"Lov om bekæmpelse af ungdomskriminalitet\" at:\n",
      "\n",
      "* Institut for Menneskerettigheder – Danmarks Nationale Menneskerettighedsinstitution skal varetage overvågning af og rapportering om menneskerettighedssituationen i Danmark, herunder i forbindelse med organiseret kriminalitet.\n",
      "* Institut for Menneskerettigheder – Danmarks Nationale Menneskerettighedsinstitution skal rådgive Folketinget, regeringen, andre offentlige myndigheder og private aktører om menneskerettigheder i forbindelse med organiseret kriminalitet.\n",
      "* Institut for Menneskerettigheder – Danmarks Nationale Menneskerettighedsinstitution skal bidrage til gennemførelse af menneskerettigheder i ind- og udland, herunder i forbindelse med organiseret kriminalitet.\n",
      "['Lov om bekæmpelse af ungdomskriminalitet (intro)', 'Lov om bekæmpelse af ungdomskriminalitet (Administrative bestemmelser)', 'Lov om bekæmpelse af ungdomskriminalitet (Ophør eller ændring af foranstaltninger og manglende fuldbyrdelse)', 'Lov om bekæmpelse af ungdomskriminalitet (Nævnsmødet)', 'Lov om ret til lommepengejob til kriminalitetstruede unge (Kapitel 1)', 'Lov om bekæmpelse af ungdomskriminalitet (Forbedringsforløb)', 'Lov om ret til lommepengejob til kriminalitetstruede unge (intro)', 'Lov om ret til lommepengejob til kriminalitetstruede unge (Kapitel 4)', 'Lov om bekæmpelse af ungdomskriminalitet (Bisidder og advokatbistand m.v.)', 'Lov om bekæmpelse af ungdomskriminalitet (Sagernes behandling)', 'Lov om adgang til anlæggelse af gruppesøgsmål til beskyttelse af forbrugernes kollektive interesser1) (Godkendelse af myndigheder og organisationer)', 'Lov om bekæmpelse af ungdomskriminalitet (Straksreaktioner)', 'Lov om bekæmpelse af ungdomskriminalitet (Afgørelser om hjemgivelse, opretholdelse af anbringelse og ændring af anbringelsessted)', 'Lov om ret til lommepengejob til kriminalitetstruede unge (Kapitel 3)', 'Lov om ret til lommepengejob til kriminalitetstruede unge (Kapitel 5)', 'Militær disciplinarlov (intro)', 'Lov om fælles digital infrastruktur for elektronisk dataudveksling ved samhandel og rapportering m.v. (Definitioner)', 'Lov om ret til lommepengejob til kriminalitetstruede unge (Kapitel 2)', 'Lov om Institut for Menneskerettigheder – Danmarks Nationale Menneskerettighedsinstitution1) (intro)', 'Lov om Danmarks tiltrædelse af De europæiske Fællesskaber (Tiltrædelsesloven) Bilag 1 til loven']\n"
     ]
    }
   ],
   "source": [
    "#query = input(\"Hvilken lov vil du gerne søge efter\\n\")\n",
    "query = \"Hvordan er loven i forhold til organiseret kriminalitet\"\n",
    "emb = model.encode(query).tolist()\n",
    "print(\"finished embedding\")\n",
    "\n",
    "conn = pg.connect(\"dbname=vector_rag user=postgres password=postgres\")\n",
    "conn.autocommit = True\n",
    "cur = conn.cursor()\n",
    "\n",
    "cur.execute(\n",
    "    \"SELECT context FROM law_embeddings ORDER BY embedding <=> %s::vector LIMIT 20;\",\n",
    "    (str(emb),),\n",
    ")\n",
    "\n",
    "result = cur.fetchall()\n",
    "\n",
    "contekst = \"\\n\\n\\n\".join([r[0] for r in result])\n",
    "kilder = [r[0].split(\":\")[0] for r in result]\n",
    "\n",
    "prompt = PROMPT_TEMPLATE.format(context_str=contekst, question=query)\n",
    "\n",
    "cur.close()\n",
    "conn.close()\n",
    "\n",
    "res = llm.complete(prompt)\n",
    "print(res)\n",
    "print(kilder)"
   ]
  },
  {
   "cell_type": "code",
   "execution_count": null,
   "id": "09316799-b443-4f1f-8ba0-f46fa91d8dcd",
   "metadata": {},
   "outputs": [],
   "source": [
    "model_name = 'Snowflake/snowflake-arctic-embed-l-v2.0'\n",
    "model = SentenceTransformer(model_name)"
   ]
  },
  {
   "cell_type": "code",
   "execution_count": 109,
   "id": "39a96c01-675d-4392-b167-fb00868300c7",
   "metadata": {},
   "outputs": [
    {
     "name": "stdout",
     "output_type": "stream",
     "text": [
      "finished embedding\n",
      "Basert på den givne kontekst vil jeg identificere de 5 mest relevante love og besvare forespørgslen.\n",
      "\n",
      "Relevante lover:\n",
      "\n",
      "1. Lov om leje (Ejendomsbegrebet)\n",
      "2. Ejendomsskatteloven\n",
      "3. Lov om tinglysning\n",
      "4. Lov om forfald\n",
      "5. Lov om leje (Tinglysning)\n",
      "\n",
      "Forespørgslen: Kan politiet forhindre mig i at være på en ejendom?\n",
      "\n",
      "Svaret er NEJ, basert på de relevante lover.\n",
      "\n",
      "Lov om leje (Ejendomsbegrebet) siger ikke noget om politiets mulighed til å forhindre noen i å være på en ejendom. Ejendomsskatteloven og lov om tinglysning handler om andre emner, mens lov om forfald bare beskriver reglerne for forfaldte lån.\n",
      "\n",
      "Lov om leje (Tinglysning) fastsætter regler for tinglysning af dokumenter om overdragelse af en ejendom, hvorpå der er tilbudspligt. Dette lover ikke noget om politiets mulighed til å forhindre noen i å være på en ejendom.\n",
      "\n",
      "Derfor kan politiet ikke forhindre dig i at du er på en ejendom, basert på de relevante lover.\n",
      "Lov om leje (Ejendomsbegreber):\n",
      "\n",
      "Ejendomsskattelov (Rabat i ejendomsværdiskat):\n",
      "\n",
      "Lov om forbud mod ophold i bestemte ejendomme (intro):\n",
      "\n",
      "Lov om elektrificering af jernbanen (Forlods overtagelse):\n",
      "\n",
      "Lov om private Vejrettigheder. (* 1) (intro):\n",
      "\n",
      "Lov om ejerlejligheder (intro):\n",
      "\n",
      "Lov om leje (Afkast i det omkostningsbestemte lejebudget):\n",
      "\n",
      "Lov om leje (Huslejeregulering for mindre ejendomme i regulerede kommuner):\n",
      "\n",
      "Lov om leje (Anvendelsesområde):\n",
      "\n",
      "Lov om elektrificering af jernbanen (Byggelinjer, forbud og ekspropriation m.v.):\n",
      "\n",
      "Lov om leje (Anvendelsesområde):\n",
      "\n",
      "Lov om leje (Driftsudgifter i det omkostningsbestemte huslejebudget):\n",
      "\n",
      "Lov om epidemier m.v. (epidemiloven) (Forbud mod ophold på bestemte steder):\n",
      "\n",
      "Ejendomsskattelov (Rabat i grundskyld):\n",
      "\n",
      "Lov om leje (Lejenedsættelse ved faldende udgifter til ejendomsskatter m.v.):\n",
      "\n",
      "Lov om leje (Vedligeholdelsesplan):\n",
      "\n",
      "Lov om boligforhold (Betingelser for frakendelse af administrationsretten):\n",
      "\n",
      "Lov om leje (Tinglysning):\n",
      "\n",
      "Ejendomsskattelov (Ikrafttrædelses- og virkningsbestemmelser):\n",
      "\n",
      "Ejendomsskattelov (Forfald):\n",
      "\n"
     ]
    }
   ],
   "source": [
    "#query = input(\"Hvilken lov vil du gerne søge efter\\n\")\n",
    "query = \"kan politiet forhindre mig i at være på en ejendom\"\n",
    "emb = model.encode(query).tolist()\n",
    "print(\"finished embedding\")\n",
    "\n",
    "conn = pg.connect(\"dbname=vector_rag user=postgres password=postgres\")\n",
    "conn.autocommit = True\n",
    "cur = conn.cursor()\n",
    "\n",
    "cur.execute(\n",
    "    \"SELECT context FROM law_embeddings ORDER BY embedding <-> %s::vector LIMIT 20;\",\n",
    "    (str(emb),),\n",
    ")\n",
    "\n",
    "result = cur.fetchall()\n",
    "\n",
    "contekst = \"\\n\\n\\n\".join([r[0] for r in result])\n",
    "kilder = [r[0].split(\":\") for r in result]\n",
    "\n",
    "prompt = PROMPT_TEMPLATE.format(context_str=contekst, question=query)\n",
    "\n",
    "cur.close()\n",
    "conn.close()\n",
    "\n",
    "res = llm.complete(prompt)\n",
    "print(res)\n",
    "for kilde in kilder:\n",
    "    print(f\"{kilde[0]}:\\n\", )\n"
   ]
  },
  {
   "cell_type": "code",
   "execution_count": 109,
   "id": "6501a31c-f86a-4165-995c-4bb8545111d4",
   "metadata": {},
   "outputs": [
    {
     "name": "stdout",
     "output_type": "stream",
     "text": [
      "finished embedding\n",
      "Basert på den givne kontekst vil jeg identificere de 5 mest relevante love og besvare forespørgslen.\n",
      "\n",
      "Relevante lover:\n",
      "\n",
      "1. Lov om leje (Ejendomsbegrebet)\n",
      "2. Ejendomsskatteloven\n",
      "3. Lov om tinglysning\n",
      "4. Lov om forfald\n",
      "5. Lov om leje (Tinglysning)\n",
      "\n",
      "Forespørgslen: Kan politiet forhindre mig i at være på en ejendom?\n",
      "\n",
      "Svaret er NEJ, basert på de relevante lover.\n",
      "\n",
      "Lov om leje (Ejendomsbegrebet) siger ikke noget om politiets mulighed til å forhindre noen i å være på en ejendom. Ejendomsskatteloven og lov om tinglysning handler om andre emner, mens lov om forfald bare beskriver reglerne for forfaldte lån.\n",
      "\n",
      "Lov om leje (Tinglysning) fastsætter regler for tinglysning af dokumenter om overdragelse af en ejendom, hvorpå der er tilbudspligt. Dette lover ikke noget om politiets mulighed til å forhindre noen i å være på en ejendom.\n",
      "\n",
      "Derfor kan politiet ikke forhindre dig i at du er på en ejendom, basert på de relevante lover.\n",
      "Lov om leje (Ejendomsbegreber):\n",
      "\n",
      "Ejendomsskattelov (Rabat i ejendomsværdiskat):\n",
      "\n",
      "Lov om forbud mod ophold i bestemte ejendomme (intro):\n",
      "\n",
      "Lov om elektrificering af jernbanen (Forlods overtagelse):\n",
      "\n",
      "Lov om private Vejrettigheder. (* 1) (intro):\n",
      "\n",
      "Lov om ejerlejligheder (intro):\n",
      "\n",
      "Lov om leje (Afkast i det omkostningsbestemte lejebudget):\n",
      "\n",
      "Lov om leje (Huslejeregulering for mindre ejendomme i regulerede kommuner):\n",
      "\n",
      "Lov om leje (Anvendelsesområde):\n",
      "\n",
      "Lov om elektrificering af jernbanen (Byggelinjer, forbud og ekspropriation m.v.):\n",
      "\n",
      "Lov om leje (Anvendelsesområde):\n",
      "\n",
      "Lov om leje (Driftsudgifter i det omkostningsbestemte huslejebudget):\n",
      "\n",
      "Lov om epidemier m.v. (epidemiloven) (Forbud mod ophold på bestemte steder):\n",
      "\n",
      "Ejendomsskattelov (Rabat i grundskyld):\n",
      "\n",
      "Lov om leje (Lejenedsættelse ved faldende udgifter til ejendomsskatter m.v.):\n",
      "\n",
      "Lov om leje (Vedligeholdelsesplan):\n",
      "\n",
      "Lov om boligforhold (Betingelser for frakendelse af administrationsretten):\n",
      "\n",
      "Lov om leje (Tinglysning):\n",
      "\n",
      "Ejendomsskattelov (Ikrafttrædelses- og virkningsbestemmelser):\n",
      "\n",
      "Ejendomsskattelov (Forfald):\n",
      "\n"
     ]
    }
   ],
   "source": [
    "#query = input(\"Hvilken lov vil du gerne søge efter\\n\")\n",
    "query = \"kan politiet forhindre mig i at være på en ejendom\"\n",
    "emb = model.encode(query).tolist()\n",
    "print(\"finished embedding\")\n",
    "\n",
    "conn = pg.connect(\"dbname=vector_rag user=postgres password=postgres\")\n",
    "conn.autocommit = True\n",
    "cur = conn.cursor()\n",
    "\n",
    "cur.execute(\n",
    "    \"SELECT context FROM law_embeddings ORDER BY embedding <-> %s::vector LIMIT 20;\",\n",
    "    (str(emb),),\n",
    ")\n",
    "\n",
    "result = cur.fetchall()\n",
    "\n",
    "contekst = \"\\n\\n\\n\".join([r[0] for r in result])\n",
    "kilder = [r[0].split(\":\") for r in result]\n",
    "\n",
    "prompt = PROMPT_TEMPLATE.format(context_str=contekst, question=query)\n",
    "\n",
    "cur.close()\n",
    "conn.close()\n",
    "\n",
    "res = llm.complete(prompt)\n",
    "print(res)\n",
    "for kilde in kilder:\n",
    "    print(f\"{kilde[0]}:\\n\", )\n"
   ]
  },
  {
   "cell_type": "code",
   "execution_count": 162,
   "id": "29e08604-d322-407b-b092-fccf440b85ea",
   "metadata": {},
   "outputs": [],
   "source": [
    "METTE_PROMPT_TEMPLATE = \"\"\"\\\n",
    "Du er en LLM som giver svarer på hvad Mette Frederiksen syntes om {question}. \\\n",
    "Du må kun besvarer baseret af de nedenstående citater, Du skal kun komme med et enkelt svar som er på Dansk \\\n",
    "\n",
    "---------------------\n",
    "{context_str}\n",
    "---------------------\n",
    "\"\"\"\n"
   ]
  },
  {
   "cell_type": "code",
   "execution_count": 177,
   "id": "6eba82f3-1990-46a4-8079-82bf2916bd18",
   "metadata": {},
   "outputs": [
    {
     "name": "stdin",
     "output_type": "stream",
     "text": [
      "Hvilket emne vil du høre Mette Frederiksens mening om?\n",
      "\n",
      " Corona nedlukning\n"
     ]
    },
    {
     "name": "stdout",
     "output_type": "stream",
     "text": [
      "Tænker ...\n",
      "Henter citater...\n",
      "Prøver at formulere mig...\n",
      "Her er Mette Frederiksens syn på Corona nedlukning:\n",
      "\n",
      "\"Jeg er overbevist om, at nedlukningen af dele af vores samfund var rigtig. At være forsigtig, når vi stod med en ukendt, uforudsigelig og dødelig virus – det var rigtigt.\"\n",
      "\n",
      "\"Hviskort har vi måttet sætte hensynet til hinanden først. Hver især. Nogle synes, at den pris er høj. Det forstår jeg godt. Men alternativet var værre. Det er det stadigvæk.\"\n",
      "\n",
      "\n",
      "Link til Taler og Citater som er valgt:\n",
      "Citat: 'Situationen er alvorlig. Derfor har vi forlænget nedlukningen af store dele af samfundet indtil midt i januar.'\t\n",
      "Link: https://www.dansketaler.dk/tale/mette-frederiksens-nytaarstale-2021\n",
      "\n",
      "Citat: 'Det er nu en uge siden, at vi lukkede Danmark delvist ned.'\t\n",
      "Link: https://www.dansketaler.dk/tale/mette-frederiksens-tale-ved-pressemoede-om-anden-coronanedlukning\n",
      "\n",
      "Citat: 'Sådan har det også været under corona.'\t\n",
      "Link: https://www.dansketaler.dk/tale/mette-frederiksens-tale-ved-folketingets-afslutningsdebat\n",
      "\n",
      "Citat: 'Jeg er overbevist om, at nedlukningen af dele af vores samfund var rigtig. At være forsigtig, når vi stod med en ukendt, uforudsigelig og dødelig virus – det var rigtigt.'\t\n",
      "Link: https://www.dansketaler.dk/tale/mette-frederiksens-tale-ved-folketingets-afslutningsdebat\n",
      "\n",
      "Citat: 'Her og nu skal vi først og fremmest håndtere corona.'\t\n",
      "Link: https://www.dansketaler.dk/tale/mette-frederiksens-nytaarstale-2022\n",
      "\n"
     ]
    }
   ],
   "source": [
    "\n",
    "query = input(\"Hvilket emne vil du høre Mette Frederiksens mening om?\\n\\n\")\n",
    "print(\"Tænker ...\")\n",
    "emb = model.encode(query).tolist()\n",
    "\n",
    "print(\"Henter citater...\")\n",
    "conn = pg.connect(\"dbname=vector_rag user=postgres password=postgres\")\n",
    "conn.autocommit = True\n",
    "cur = conn.cursor()\n",
    "\n",
    "cur.execute(\n",
    "    \"SELECT speech, context, line FROM speeches_embeddings_v2 ORDER BY embedding <-> %s::vector LIMIT 5;\",\n",
    "    (str(emb),),\n",
    ")\n",
    "\n",
    "result = cur.fetchall()\n",
    "\n",
    "context_all = []\n",
    "speeches =  []\n",
    "for row in result:\n",
    "    speech = row[0]\n",
    "    speeches.append(speech)\n",
    "    context_all.append(f\"'{row[1]}'\")\n",
    "    line = row[2]\n",
    "\n",
    "prompt = METTE_PROMPT_TEMPLATE.format(context_str=\"\\n\\n\".join(list(set(context_all))), question=query)\n",
    "\n",
    "cur.close()\n",
    "conn.close()\n",
    "\n",
    "print(\"Prøver at formulere mig...\")\n",
    "res = llm.complete(prompt)\n",
    "print(res)\n",
    "print(\"\\n\\nLink til Taler og Citater som er valgt:\")\n",
    "for row in result:\n",
    "    print(f\"Citat: '{row[2].strip()}'\\t\\nLink: https://www.dansketaler.dk/tale/{row[0]}\\n\")"
   ]
  },
  {
   "cell_type": "code",
   "execution_count": 111,
   "id": "8ae2905c-c503-4be6-ad8d-17470612c638",
   "metadata": {},
   "outputs": [],
   "source": [
    "model_name = 'Snowflake/snowflake-arctic-embed-l-v2.0'\n",
    "model = SentenceTransformer(model_name)"
   ]
  },
  {
   "cell_type": "code",
   "execution_count": 158,
   "id": "9ac8bb50-9c54-4e19-bf0d-7aa0ea725db1",
   "metadata": {},
   "outputs": [
    {
     "name": "stdout",
     "output_type": "stream",
     "text": [
      "lines:  40  characters:  2136\n",
      "lines:  20  characters:  1670\n",
      "lines:  20  characters:  737\n",
      "lines:  92  characters:  3799\n",
      "lines:  20  characters:  1620\n"
     ]
    }
   ],
   "source": [
    "for con in context_all:\n",
    "    lines = con.splitlines()\n",
    "    \n",
    "    print(\"lines: \",len(lines), \" characters: \", len(con))"
   ]
  },
  {
   "cell_type": "code",
   "execution_count": 129,
   "id": "15ee615d-ee59-4d6b-a5c0-45f754b5b318",
   "metadata": {},
   "outputs": [],
   "source": [
    "lines = context_all[0].splitlines()"
   ]
  },
  {
   "cell_type": "code",
   "execution_count": 151,
   "id": "259f8c44-128a-4f12-9de8-4dc81a323c51",
   "metadata": {},
   "outputs": [],
   "source": [
    "lines = []\n",
    "char_split = False\n",
    "for line in raw_lines:\n",
    "    if line != \"\\n\":\n",
    "        lines.append(line)\n",
    "    if re.search(\"[a-zA-Z]\", line) is None and \"\\n\" != line:\n",
    "        char_split = True\n",
    "context_splits = []\n",
    "\n",
    "if char_split:\n",
    "    context = []\n",
    "    for line in lines:\n",
    "        if re.search(\"[a-zA-Z]\", line) is None and \"\\n\" != line:\n",
    "            context_splits.append(context)\n",
    "            context = []\n",
    "        else:\n",
    "            context.append(line)\n",
    "    if context != []:\n",
    "        context_splits.append(context)\n",
    "else:\n",
    "    chunk_size = 10  # group size\n",
    "    overlap = 2  # overlap size\n",
    "    context_splits = [\n",
    "        lines[i : i + chunk_size]\n",
    "        for i in range(0, len(lines), chunk_size - overlap)\n",
    "    ]"
   ]
  },
  {
   "cell_type": "code",
   "execution_count": 152,
   "id": "b0611dfe-dee0-40e4-bb11-e5127e760b0c",
   "metadata": {
    "scrolled": true
   },
   "outputs": [
    {
     "data": {
      "text/plain": [
       "[['Tale\\n',\n",
       "  'Tak for invitationen. Jeg har set frem til at være med i dag.\\n',\n",
       "  'Politik er fyldt med oneliners.\\n',\n",
       "  '“Never give in,” sagde Winston Churchill.\\n',\n",
       "  '“It’s morning again in America,” lød det fra Ronald Reagan.\\n',\n",
       "  'Barack Obama sagde: “Yes we can.”\\n',\n",
       "  'Og så er der Angela Merkels “Wir schaffen das”.\\n',\n",
       "  'Enig eller uenig. Når politiske slogans er bedst, indfanger de kernen af, hvad det hele handler om.\\n',\n",
       "  'I fredags hørte jeg en borgmester, der med tre ord fangede mit syn på danske kommuner. \\xa0\\n',\n",
       "  'Han sagde: ”Vi fikser det.”\\n',\n",
       "  'Det er præcis det, I gør – alle jer, der er til stede i dag.\\n',\n",
       "  'Borgmestre. Kommunalbestyrelsesmedlemmer. Embedsmænd. Og mange andre lokale ildsjæle.\\xa0 \\xa0\\n',\n",
       "  'I fikser velfærdssamfundet i dagligdagen.\\n',\n",
       "  'Det er jer, der er tættest på danskerne.\\n',\n",
       "  'Jeres medarbejdere, der hver morgen står klar til at modtage den næste generation i vuggestuen og børnehaven.\\n',\n",
       "  'Jeres medarbejdere, der klæder skolebørnene på til at blive kompetente unge mennesker med færdigheder og mod på livet.\\n',\n",
       "  'Og jeres medarbejdere, der passer på vores ældre, som efter et langt og slidsomt liv har brug for pleje, omsorg. Og en snak om det, der fylder.\\n',\n",
       "  'Velfærdssamfundet – det er levet liv.\\n',\n",
       "  'Og I – og jeres medarbejdere – er i kernen af det. Hver eneste dag.\\n',\n",
       "  'Også når en pandemi skyller ind over landet og kræver ekstraordinære indsatser.\\n',\n",
       "  'Og når titusindvis af ukrainske børn og voksne på flugt fra krigen skal have et sted at bo. Et arbejde. En skoledag. En hverdag, der fungerer.\\n',\n",
       "  'Kære alle, der er samlet her. På Danmarks vegne.\\n',\n",
       "  'Tak for den indsats, I yder. Og tak til jeres medarbejdere.\\n'],\n",
       " ['Der er perioder i et samfunds historie, hvor forandringer presser sig på. Hvor selve fundamentet er udfordret. Og hvor der skal foretages afgørende valg og prioriteringer. For at sikre fremtiden.\\n',\n",
       "  'Det er præcis sådan en periode, det danske velfærdssamfund befinder sig i.\\n',\n",
       "  'Bagtæppet er alvorligt.\\n',\n",
       "  'For det første er der Danmark og Europas sikkerhed.\\n',\n",
       "  'Krigen i Ukraine har været et wakeup-call.\\n',\n",
       "  'Det står fuldstændig klart, at vi skal tage større ansvar for vores egen sikkerhed.\\n',\n",
       "  'Danmarks sikkerhed hviler på NATO-samarbejdet. Derfor skal vi bidrage med de 2 procent af BNP i 2030.\\n',\n",
       "  'Så langt mit øje rækker. Kommer vi til at skulle bruge markant flere penge på forsvar og sikkerhed. Flere end vi har gjort i årtier.\\n',\n",
       "  'Sikkerhedspolitisk befinder vi os i en tid, der vil byde på svære beslutninger og store forandringer.\\n',\n",
       "  'Det samme gælder i den grønne omstilling.\\n',\n",
       "  'Også her er der brug for store beslutninger.\\n',\n",
       "  'Som involverer hele samfundet.\\n',\n",
       "  'Ikke mindst jer.\\n',\n",
       "  'Sjældent har så mange danskere med spænding ventet på et brev fra kommunen. Bliver der mon rullet fjernvarme ud her på min matrikel?\\n',\n",
       "  'En overraskende konsekvens af Ruslands aggression blev, at kommunal varmeplanlægning blev et samtaleemne ved middagsbordet i mange danske hjem.\\n',\n",
       "  'Vi skal have danskerne over på grønne varmekilder.\\n',\n",
       "  'Omstillingen er vigtig. Og som rigtig mange af jer ved, så er klimatilpasningen det også.\\n',\n",
       "  'Den grønne omstilling og klimatilpasningen kommer til at trække store veksler de kommende år.\\n',\n",
       "  'Endelig er der vores kronjuvel. Velfærdssamfundet. Med fri og lige adgang.\\n',\n",
       "  'Som godt nok er verdens bedste. Men som også er under pres. Og trænger til fornyelse.\\n',\n",
       "  'På alle tre områder. Sikkerhed. Klima. Og velfærd. Står vores samfund over for store beslutninger. Hvor vi skal vise mod og vilje til at gå nye veje.\\n',\n",
       "  'Vi kan ikke vælge én af dem fra og sige: Det her venter lige.\\n',\n",
       "  'Der er presserende behov for handling på alle tre områder. Og store investeringer.\\n',\n",
       "  'Dansk finanspolitik er holdbar i et langsigtet perspektiv, ja. Det er helt afgørende.\\n',\n",
       "  'Men hvis vi stiller os tilfredse alene med det faktum. Så er det jo det samme som at sige, at vi ikke vil mere. At ambitionerne ikke er større.\\n',\n",
       "  'For overskud langt ude i fremtiden ændrer ikke på de udfordringer, vi står over for i et kortere perspektiv. Og alt det, vi i fællesskab gerne vil frem mod 2030.\\n',\n",
       "  'Hvis vi ikke bare stiller os tilfredse. Men faktisk vil have så stærkt et samfund, som det overhovedet kan lade sig gøre.\\n',\n",
       "  'Så skal vi investere mere. Og så er det økonomiske råderum ikke stort nok.\\n',\n",
       "  'Derfor \\n',\n",
       "  'er\\n',\n",
       "  ' der brug for reformer.\\n'],\n",
       " ['I dag vil mit fokus være på de opgaver, der ligger foran os, når vi tager de næste skridt i udviklingen af velfærdssamfundet.\\n',\n",
       "  'Vi er et af de tryggeste, rigeste og dygtigste lande i verden.\\n',\n",
       "  'Men hånden på hjertet. Har vi i dag de daginstitutioner. Den folkeskole. Og den ældrepleje. Som vi drømte om, da vi gik ind i politik?\\n',\n",
       "  'Jeg gætter på, at langt de fleste af jer kan få øje på områder, som I gerne vil forbedre. Investere i. Indrette på en anden måde.\\n',\n",
       "  'Borgere, som I gerne vil hjælpe bedre end i dag.\\n',\n",
       "  'De ambitioner – jeres ambitioner – må vi ikke give køb på.\\n',\n",
       "  'Velfærdssamfundet er skabt i et parløb mellem Christiansborg og det kommunale Danmark igennem 100 år.\\n',\n",
       "  'I dag vil jeg på vegne af regeringen invitere til et samarbejde om, hvordan vi tager de næste store skridt.\\n',\n",
       "  'Forudsætningen for det samarbejde er, at vi har en fælles forståelse for de udfordringer, vi står over for.\\n',\n",
       "  'Derfor vil jeg i dag dele min – og vores – analyse af de mest centrale udfordringer for vores velfærd de kommende år.\\n',\n",
       "  'Der er især fem.\\n'],\n",
       " ['Den første store udfordring er demografien.\\n',\n",
       "  'Frem mod 2030 kommer der over 40.000 flere børn. Og næsten 110.000 flere ældre.\\n',\n",
       "  'Egentlig er det udtryk for noget fantastisk.\\n',\n",
       "  'Vi står foran en tid med masser af nye små danskere i flyverdragter.\\n',\n",
       "  'Og med endnu flere friske bedsteforældre og oldeforældre, der har overskud og helbred til at være sammen med deres børn, børnebørn og oldebørn. Og med venner. Rejse. Dyrke fritidsinteresser. Leve et godt liv.\\n',\n",
       "  'Aldrig før har vi levet så sundt. Så godt. Og så længe. Som vi gør nu.\\n',\n",
       "  'Det var præcis det, vi ønskede med velfærdssamfundet.\\n',\n",
       "  'Men udviklingen vil også udfordre os. Som I ved.\\n',\n",
       "  'Med behov for flere pladser i vuggestuer og børnehaver.\\n',\n",
       "  'Og selvom mange ældre er friske, kommer der også flere, der lever med kronisk sygdom og demens.\\n',\n",
       "  'Det betyder flere ældre, som har brug for pleje.\\n',\n",
       "  'Flere med behov for hjemmesygepleje, hjemmehjælp og rengøring.\\n',\n",
       "  'Og nej, her taler vi ikke om en ældrebyrde.\\n',\n",
       "  'Vi taler om mennesker, har skabt vores samfund.\\n',\n",
       "  'De skal selvfølgelig have en tryg og værdig alderdom.\\n',\n",
       "  'Regeringen vil sørge for, at pengene følger med demografien.\\n',\n",
       "  'Det demografiske træk.\\n',\n",
       "  'Det piner mig, at vi – i noget så menneskeligt og afgørende – er nødt til at bruge så kedeligt og teknokratisk et begreb.\\n',\n",
       "  'Jeg gætter på, at mange af jer – som jeg – engang har haft en stak Anders And-blade i skabet.\\n',\n",
       "  'Måske kan I huske den karakter, der hed ’Sorte Slyngel’?\\n',\n",
       "  'Han var kendetegnet ved to ting: Et: Han havde et sort lagen over hovedet og to: Han var en slyngel.\\n',\n",
       "  'Det var let at identificere, hvad han var for en.\\n',\n",
       "  'Det er sværere med demografien. Det er en usynlig mod- og medspiller.\\n',\n",
       "  'I 2030 koster det over 21 milliarder kroner bare at følge med den.\\n',\n",
       "  'Et stort tal. Men det dækker netop kun, at vi nogenlunde kan bevare status quo.\\n',\n",
       "  'Og så alligevel ikke.\\n',\n",
       "  'Jeg ved, at det specialiserede socialområde fylder meget hos jer.\\n',\n",
       "  'Borgere med psykiske lidelser og med handicap er mennesker med vidt forskellige livsbetingelser og behov.\\n',\n",
       "  'Unge med ondt i livet. Voksne med behov for støtte i hverdagen. Mennesker med en funktionsnedsættelse.\\n',\n",
       "  'Fælles for dem alle er, at de fortjener gode liv ligesom alle andre.\\n',\n",
       "  'Og jeg ved også, at jeres medarbejdere hver dag arbejder for at opfylde behovene.\\n',\n",
       "  'Det er først og fremmest en medmenneskelig udfordring.\\n',\n",
       "  'Men også en økonomisk. Det specialiserede socialområde er i dag det største enkeltstående kommunale udgiftsområde.\\n',\n",
       "  'Og udgifterne stiger.\\n',\n",
       "  'Udviklingen i befolkningssammensætningen – og på det specialiserede socialområde – vil udfordre os alle.\\n',\n",
       "  'Og dermed velfærdssamfundet. På en lang række områder.\\n',\n",
       "  'Og det meget mere, end mange lige forestiller sig.\\n',\n",
       "  'Her skal vi arbejde tæt sammen. Her får vi brug for at finde grundlæggende nye løsninger. Vi skal forebygge meget mere. Vi skal finde nye samarbejder. Nye måder at indrette os på.\\n'],\n",
       " ['Det er den næste store udfordring et godt eksempel på.\\n',\n",
       "  'Manglen på medarbejdere i velfærden.\\n',\n",
       "  'Hvis jeg spurgte jer i forsamlingen:\\n',\n",
       "  'Hvor mange af jer har oplevet, at en af jeres institutioner har slået en stilling som social- og sundhedsmedarbejder eller pædagog op – uden held?\\n',\n",
       "  'Hvor mange har så oplevet det? Mange.\\n',\n",
       "  'Og mange har formentlig også oplevet, at jeres institutioner har måttet opgive at få vagtplanen til at gå op.\\n',\n",
       "  'At I ikke kunne levere den velfærd om natten, som I egentlig ville.\\n',\n",
       "  'Sandheden er, at det er svært at få medarbejdere nok i den borgernære velfærd.\\n',\n",
       "  'Og ser vi frem i tid. Så vil rekrutteringsudfordringen kun blive større.\\n',\n",
       "  'I 2030 kan vi komme til at mangle op mod 17.000 flere social- og sundhedsmedarbejdere.\\n',\n",
       "  'Kan vi stille os tilfredse med det?\\n',\n",
       "  'Nej. Selvfølgelig ikke.\\n',\n",
       "  'For få søger ind på en velfærdsuddannelse. Og for mange falder fra undervejs.\\n',\n",
       "  'Den udvikling skal vi have vendt.\\n',\n",
       "  'Samtidig skal vi kunne fastholde dem, som hver dag går på arbejde. Og gør en kæmpe indsats.\\n',\n",
       "  'Vi skal tilbyde ordentlige løn- og arbejdsvilkår.\\n',\n",
       "  'Skabe rammer, der mindsker sygefraværet.\\n',\n",
       "  'Anspore flere til at gå op i tid.\\n',\n",
       "  'Og få flere til at have lyst til at blive i deres fag. I en tid med et stort arbejdspres.\\n',\n",
       "  'Men det er ikke nemt. Det er faktisk rigtig svært.\\n'],\n",
       " ['Samtidig er der også behov for at se på, hvordan de medarbejdere, der arbejder, bruger tiden.\\n',\n",
       "  'Her er det evigt voksende bureaukrati et problem.\\n',\n",
       "  'På næsten ti år er udgifterne til administration i kommunerne vokset med 2½ mia. kr.\\n',\n",
       "  'Her er der nok nogen af jer, der har lyst til at bryde ind og sige: Jamen, det er jo ikke kun i kommunerne, der er ansat flere til at administrere. Det gælder også i staten.\\n',\n",
       "  'Og det er fuldstændig rigtigt.\\n',\n",
       "  'Kommer regeringen så også til at kigge på det?\\n',\n",
       "  'Ja, det gør vi. Selvfølgelig.\\n',\n",
       "  'For det er egentlig paradoksalt.\\n',\n",
       "  'Hvem af os her i rummet har nogensinde ønsket os det omfang af bureaukrati, vi har i dag?\\n',\n",
       "  'Formentlig ingen.\\n',\n",
       "  'Og hvem af os er gået til valg på flere penge til administration, dokumentation og bureaukrati?\\n',\n",
       "  'Den politiker har jeg endnu ikke mødt.\\n',\n",
       "  'Alligevel er bureaukratiet vokset. Og det er blevet værre år for år.\\n',\n",
       "  'Forvaltningerne og kommunalbestyrelserne lægger – ligesom Christiansborg – ekstra lag på bureaukratiet.\\n',\n",
       "  'En strategi, der fører til en handlingsplan. Som igen fører til en arbejdsgruppe. Et skema. En ny vejledning.\\n',\n",
       "  'Kommunikationsindsatser. Indrapporteringer. Tilsyn og opfølgning. Og puljer. Og puljer. Og sådan fortsætter det.\\n',\n",
       "  'Og det er ikke kun på rådhuset og i forvaltningerne, at bureaukratiet findes. Det har påvirket vores måde at arbejde på helt ude ved borgerne.\\n',\n",
       "  'Lad mig give et eksempel.\\n',\n",
       "  'I en kommune var det længe sådan, at hvis en borger skulle i bad, og høreapparatet skulle renses, så skulle medarbejderen både skrive det i en journal og i et separat skema.\\n',\n",
       "  'Det eksempel er ikke enkeltstående.\\n',\n",
       "  'Tænk over, hvor mange arbejdstimer det bliver til. Tid vi kunne bruge anderledes.\\n',\n",
       "  'Her må vi kvittere og sige: I så problemerne, før vi på Christiansborg gjorde.\\n',\n",
       "  'Det minder om 1980’erne og 1990’erne.\\n',\n",
       "  'Her var det også jer, borgmestre, der åbnede Christiansborgs øjne for problemerne med den mangelfulde integration af flygtninge og indvandrere.\\n',\n",
       "  'Havde vi lyttet til jer dengang, ville Danmark formentlig have ført en anden udlændinge- og flygtningepolitik.\\n',\n",
       "  'Og nu, hvor det gælder problemerne med det voksende bureaukrati i velfærden, er det igen jer, der åbner vores øjne.\\n',\n",
       "  'Jeg er parat til – på vegne af mig selv og Christiansborg at påtage mig min – vores – del af ansvaret.\\n',\n",
       "  'Vi har centralt lavet alt for mange regler og alt, alt for meget detailstyring.\\n',\n",
       "  'Og vi bliver desværre ved med det.\\n',\n",
       "  'Fordi vi i mange år har troet på, at vi kunne regulere og detailstyre os til den bedste velfærd.\\n',\n",
       "  'Lidt forenklet sagt har vi troet, at vejen til det gode velfærdssamfund var brolagt med regulering.\\n',\n",
       "  'Det var en misforståelse. Og det er en misforståelse\\n',\n",
       "  'Som er blevet forstærket af en utålmodig politisk logik, der ikke altid har været befordrende for de gode løsninger.\\n',\n",
       "  'Endnu et lovforslag. Endnu en ny rettighed. Endnu en pulje.\\n',\n",
       "  'Endnu en ny forligskreds, der er blevet enige om en ny politisk aftale fyldt med nye detailkrav.\\n',\n",
       "  'Ingen nævnt. Ingen glemt. Jeg har selv stået der. Foran ministerkontoret og været oprigtig glad for den slags aftaler.\\n',\n",
       "  'Jeg lover jer, at de er indgået i den bedste mening.\\n',\n",
       "  'Men når lag på lag på lag af lovgivning og regler, der er lavet i bedste mening, bliver lagt oven på hinanden. Så bliver det tungt.\\n',\n",
       "  'Det rammer helt ude hos medarbejderen. Og borgeren.\\n',\n",
       "  'En ond cirkel. Og et kæmpe paradoks.\\n',\n",
       "  'Men det sker igen og igen.\\n',\n",
       "  'Når det handler om det voksende bureaukrati, peger pilen altså på os på Christiansborg.\\n',\n",
       "  'Men den må også pege tilbage på jer.\\n',\n",
       "  'For mange af de regler og dokumentationskrav, som institutioner og medarbejdere er underlagt, er udtænkt af lokale forvaltninger. Også i bedste mening naturligvis.\\n',\n",
       "  'I har nemlig været underlagt den samme politiske logik. Kravet om hurtige løsninger på svære problemer.\\n',\n",
       "  'Ja, selv på de enkelte institutioner har man oven på den regulering, man har fået, påført sig selv rigtig meget regulering. Igen i bedste mening.\\n',\n",
       "  'Her i Aalborg Kommune har man på ældreområdet gennemgået de regler, der er taget initiativ til lokalt.\\n',\n",
       "  'Det viser sig, at 17 ud af 20 kommunale regler er indført af lokale plejeenheder. Kun tre ud af 20 er indført af forvaltningen.\\n',\n",
       "  'Det sætter for mig at se to tykke streger under, at kampen mod bureaukrati er en kamp mod en fejlslagen idé om, hvordan vi skaber det bedste velfærdssamfund.\\n',\n",
       "  'Fordi det handler om en alt for systemisk og alt for kølig tilgang til mennesker.\\n',\n",
       "  'På den måde er det en reel værdikamp. Som vi skal kæmpe sammen.\\n',\n",
       "  'Imod en idé, som findes på alle niveauer. Hos os på Christiansborg. Hos jer lokalt. Og helt ude i institutionerne.\\n'],\n",
       " ['Den næste store udfordring for velfærden handler om vores sammenhængskraft som land.\\n',\n",
       "  'For nogle uger siden besøgte jeg Tingbjerg Skole. En skole fuld af glade børn og unge. De fleste med anden etnisk baggrund.\\n',\n",
       "  'Her er den unge skoleleder kommet langt med at skabe en helt almindelig dansk folkeskole.\\n',\n",
       "  'Det går fremad med integrationen mange steder i landet.\\n',\n",
       "  'Det skal alle I, der har skabt de succeser, have kæmpe ros for. I kan ranke ryggen. Godt gået.\\n',\n",
       "  'Men samtidig med, at vi fejrer succeserne. Så er problemerne stadig alt for mange.\\n',\n",
       "  'Selv efter 30 års integrationsindsats er billedet klart: Indvandrere og efterkommere fra lande i Mellemøsten og Nordafrika klarer sig i gennemsnit dårligere end indvandrere fra mange andre lande.\\n',\n",
       "  'Færre af kvinderne kommer i arbejde.\\n',\n",
       "  'Flere af de unge mænd bliver dømt for kriminalitet.\\n',\n",
       "  'Og rundt om i vores land er der områder, hvor grupper af mennesker lever afsondret fra os andre.\\n',\n",
       "  'Mennesker, som ikke kan begå sig på vores sprog, selvom de har boet her i årevis. Som ikke går på arbejde. Som ikke deler almindelige danske og vestlige værdier. Eller tager del i de fællesskaber, vi har med hinanden.\\n',\n",
       "  'Det gør noget ved et samfund.\\n',\n",
       "  'Velfærdssamfundet er jo grundlæggende et fællesskab. Som bygger på en indbyrdes tillid til, at vi alle bidrager.\\n',\n",
       "  'At vi kender hinanden. Taler sammen. Og er en del af den samme offentlige samtale.\\n',\n",
       "  'Alt det bliver alvorligt udfordret af parallelsamfund.\\n',\n",
       "  'Og hvis ikke vi får gjort endnu mere for at løfte integrationsopgaven. Og får sagt meget klart, at de, der er kommet til Danmark, altid skal løfte deres ansvar for vores land. Så underminerer vi velfærdssamfundet.\\n'],\n",
       " ['Den sidste udfordring er vores forventninger til velfærden.\\n',\n",
       "  'Ni ud af ti af jer borgmestre oplever, at danskernes forventninger til velfærden er blevet markant større.\\n',\n",
       "  'Det er ikke underligt.\\n',\n",
       "  'Når vi bliver rigere og rigere og kan købe os til mere og mere. Så forventer vi mere af den offentlige velfærd. Skoler. Daginstitutioner. Ældrepleje.\\n',\n",
       "  'Når et barn har en hurtig computer hjemme. Så forventes det, at skolens computer ikke er langsom og gammel\\n',\n",
       "  'Sådan er det hele vejen rundt.\\n',\n",
       "  'Helt tilbage i 1950’erne var den svenske politiker Olof Palme opmærksom på sammenhængen.\\n',\n",
       "  'Han kaldte det for ”voksende forventningers utilfredshed.”\\n',\n",
       "  'Forbedrede forhold bliver hurtigt hverdag. Og følges af nye forventninger.\\n',\n",
       "  'Men velfærdssamfundet er ikke først og fremmest en serviceinstitution.\\n',\n",
       "  'Det er meget mere. Meget større. Og meget vigtigere\\n',\n",
       "  'Vores velfærdssamfund handler om varme. Nærvær. Omsorg.\\n',\n",
       "  'Og ikke mindst om medborgerskab.\\n',\n",
       "  'At vi engagerer os i fællesskabet. I livet i børnehaven. Skolerne. Lokalsamfundet. Hjælper dem, der har det svært.\\n',\n",
       "  'Rødderne går langt tilbage.\\n',\n",
       "  'Bønder, der organiserede sig i andelsbevægelsen og højskoler.\\n',\n",
       "  'Arbejdere, der grundlagde fagforeninger, boligselskaber, idrætsklubber, og meget andet.\\n',\n",
       "  'Dét førte alt sammen til det velfærdssamfund, vi kender i dag.\\n',\n",
       "  'Lad os ikke tabe den historiske arv på gulvet.\\n',\n",
       "  'Hvis vi reducerer velfærd til blot at være en ’serviceydelse’. Så bliver vi ikke alene åndeligt fattigere. Utilfredsheden med velfærden vil også stige.\\n',\n",
       "  'Det vil sætte sig i en faldende opbakning til det universelle velfærdssamfund.\\n',\n",
       "  'Så vi må spørge os selv: Taler vi i for høj grad om en velfærdsstat, der skal levere en service?\\n',\n",
       "  'Fremfor om et velfærdssamfund, der bygger på engagerede medborgere?\\n',\n",
       "  'Velfærd kan ikke være en transaktion.\\n',\n",
       "  'Det er et personligt ansvar.\\n',\n",
       "  'Lad os tale mere om det. Og om at drage omsorg for hinanden. Om at engagere os i fællesskabet.\\n',\n",
       "  'Det medborgerskab. Det mener jeg, at der er behov for at styrke.\\n'],\n",
       " ['De fem udfordringer, som jeg her har ridset op.\\n',\n",
       "  'Demografien.\\n',\n",
       "  'Rekrutteringsproblemerne.\\n',\n",
       "  'Det voksende bureaukrati.\\n',\n",
       "  'Sammenhængskraften, der er truet.\\n',\n",
       "  'Og voksende forventninger til velfærden.\\n',\n",
       "  'Det er min analyse af den virkelighed, vi står over for. Regeringens analyse.\\n',\n",
       "  'Den vil vi gerne diskutere med jer.\\n',\n",
       "  'Og jeg glæder mig til at høre jeres.\\n',\n",
       "  'I mine øjne står vi over for valget: Vil vi humpe videre? Lappe lidt her og der. Håbe, at det holder vores tid ud?\\n',\n",
       "  'Eller vil vi tage mere grundlæggende fat?\\n',\n",
       "  'Med nye måder at indrette velfærden på? Og reformer, der kan skabe forandringer, som rækker ud over vores levetid?\\n',\n",
       "  'Jeg sender nok ikke chokbølger gennem rummet her ved at sige, at vi i regeringen foretrækker det sidste.\\n',\n",
       "  'Og vi ønsker ikke. Faktisk slet ikke. At gøre det selv.\\n',\n",
       "  'Tværtimod. Vi ønsker at samarbejde med jer. Med partierne. Og ikke mindst med danskerne.\\n'],\n",
       " ['Inden jeg runder af. Så lad os komme omkring nogle af de elementer i regeringsgrundlaget, som jeg ved, har skabt debat og kritik i kommunerne.\\n',\n",
       "  'Lad mig starte med administrationsudgifterne.\\n',\n",
       "  'For ja, vi kommer til at stå fast på, at udgifterne til administration i kommuner og regioner skal nedbringes med 3 milliarder kroner i 2030.\\n',\n",
       "  'Fordi vi mener, det er bedre at bruge pengene på løn- og arbejdsvilkår til ansatte i velfærden.\\n',\n",
       "  'Jeg ved godt, at det er hundrede gange lettere sagt end gjort at bremse væksten i administrationsudgifterne. Og endnu sværere at nedbringe dem.\\n',\n",
       "  'Ikke desto mindre er det dét, der er opgaven.\\n',\n",
       "  'Og regeringen vil arbejde for, at den borgernære velfærd bliver friholdt. Det er administration, der skal fylde mindre.\\n',\n",
       "  'Vi vil lægge op til et flerårigt samarbejdsprogram mellem regeringen, kommuner og regioner. Med det formål at nedbringe udgifterne til administration og friholde den borgernære velfærd.\\n',\n",
       "  'For vi vil gerne drøfte med jer, hvad vi kan gøre for at bidrage.\\n',\n",
       "  'Gennem færre målsætninger. Mere enkel styring og tilsyn. Færre dokumentationskrav.\\n',\n",
       "  'I skal have muligheden for at udfordre os på al den regulering, vi kan fjerne, for at opgaven kan lykkes. Følg eller forklar.\\n'],\n",
       " ['Og så er der jobcentrene.\\n',\n",
       "  'At vi vil nedlægge dem. Det ved vi godt, er et meget hårdt greb. Og helt usædvanlig klar tale.\\n',\n",
       "  'Lad mig understrege: Det skyldes ikke, at medarbejderne i jobcentrene ikke gør arbejdet godt nok.\\n',\n",
       "  'De har gjort præcis, hvad de har fået besked på fra Christiansborg.\\n',\n",
       "  'Nej. Det her er et opgør med et system, der er viklet ind i regler, proceskrav og bureaukrati.\\n',\n",
       "  'Eksempelvis oplever medarbejderne i Jobcenter Aarhus, at de bruger tre timer på regler og bureaukrati, hver gang de bruger én time på en ledig borger\\n',\n",
       "  'Det er for skævt.\\n',\n",
       "  'Det her handler jo ikke om Aarhus.\\n',\n",
       "  'Det handler om, at vi sammen skal finde en ny måde at gøre det på.\\n'],\n",
       " ['Regeringen og politikerne på Christiansborg er blevet kritiseret for at tale forventningerne til den velfærd, I skal levere, længere op end godt er.\\n',\n",
       "  'Men vi ved godt, at der ikke er penge til det hele.\\n',\n",
       "  'At I oplever, at budgetlægningen er blevet stadig sværere.\\n',\n",
       "  'I står over for svære prioriteringer hver eneste dag\\n',\n",
       "  'Derfor vil vi give jer mere frihed til at gøre tingene på den måde, I finder bedst.\\n',\n",
       "  'Den betyder også, at der skal være mere plads til forskellighed i velfærden på tværs af kommuner. Mere end der er i dag.\\n',\n",
       "  'Allerede i dag er der lokale forskelle i velfærden i Danmark.\\n',\n",
       "  'Men regeringens ambition er, at I i endnu højere grad skal kunne tilrettelægge velfærden, som I synes bedst lokalt.\\n',\n",
       "  'Fordi det er jer, der kender jeres lokalområder og borgere allerbedst.\\n',\n",
       "  'Og fordi øget lokal frihed vil kunne bane vejen for højere kvalitet i velfærden.\\n',\n",
       "  'Jeg synes, det har været en misforstået forestilling. At ensartethed er en markør for kvalitet.\\n',\n",
       "  'At hvis velfærden er ens fra Ballerup til Hobro. Fra Hedensted til Odense. Så er det udtryk for høj kvalitet.\\n',\n",
       "  'Det er noget sludder.\\n',\n",
       "  'Kvalitet i velfærden handler om faglighed, nærvær og omsorg.\\n',\n",
       "  'Og det kan vi kun styrke, hvis vi skaber plads til langt større lokale forskelle, præferencer og prioriteringer.\\n',\n",
       "  'Jeg er overbevist om, at hvis man slipper den lokale kreativitet fri, vil det føre til nye veje.\\n',\n",
       "  'Hvis man i Hedensted ønsker at drive plejehjemmet og daginstitutionen på en anden måde, end man gør et sted på Fyn, så skal man da kunne det.\\n',\n",
       "  'Forskellighed kan netop være et udtryk for kvalitet. For det lokale. For medborgerskab.\\n',\n",
       "  'Der er selvfølgelig undtagelser – sundhed er nok det mest oplagte eksempel – hvor der bør være nationale kvalitetskrav og standarder. Samme kvalitet i hele landet.\\n',\n",
       "  'Men jeg håber, I har taget mit signal ned.\\n'],\n",
       " ['Alle de udfordringer, vi står over for, er dybt komplekse. Og de griber ind i hinanden.\\n',\n",
       "  'For at løse dem. Så er det ikke tilstrækkeligt at dreje på en skrue ét sted. Eller gennemføre en hurtig lovpakke.\\n',\n",
       "  'Der er brug for, at vi tager mere grundlæggende fat. Udvikler løsninger sammen. Og inddrager alle relevante aktører.\\n',\n",
       "  'Det gælder også civilsamfundet. Private virksomheder, frivillige, organisationer og andre.\\n',\n",
       "  'Den nye brede regering er bygget på ambitionen om at ændre den politiske kultur.\\n',\n",
       "  'Gøre op med blokpolitik. Insistere på dialog og inddragelse på tværs.\\n',\n",
       "  'Den måde at tænke på ligger jer ikke fjernt.\\n',\n",
       "  'Hvis der er nogen, der kender til samarbejde hen over midten. Til at træffe svære beslutninger. Om alt fra nye skoledistrikter til sammenlægning af plejehjem\\n',\n",
       "  'Så er det jer.\\n',\n",
       "  'Jeg begyndte min tale i dag med at sige, at der er tidspunkter i et samfunds historie, hvor selve fundamentet er udfordret. Hvor der skal foretages afgørende valg og prioriteringer. For at sikre fremtiden.\\n',\n",
       "  'Kære topmøde!\\n',\n",
       "  'Det er præcis her, Danmark står lige nu.\\n',\n",
       "  'Det er os. Den første brede regering hen over midten i mange år.\\n',\n",
       "  'Og jer.\\n',\n",
       "  'Der lige nu står med opgaven.\\n',\n",
       "  'Med ansvaret.\\n',\n",
       "  'Med en historisk mulighed.\\n',\n",
       "  'Hvis vi bruger den rigtigt, så kan vi ikke alene fikse det sammen.\\n',\n",
       "  'Så kan vi også træffe de valg og beslutninger, som bliver afgørende for velfærdssamfundets fremtid.\\n',\n",
       "  'Det håber vi at gøre sammen med jer.\\n',\n",
       "  'Tak for ordet.\\n']]"
      ]
     },
     "execution_count": 152,
     "metadata": {},
     "output_type": "execute_result"
    }
   ],
   "source": [
    "context_splits"
   ]
  },
  {
   "cell_type": "code",
   "execution_count": 171,
   "id": "16f1b980-3aa3-41f5-b84b-ec2cc043d9f6",
   "metadata": {},
   "outputs": [
    {
     "name": "stdout",
     "output_type": "stream",
     "text": [
      "Citat: 'Og når vi siger, vi vil styrke psykiatrien.'\t\n",
      "Link: https://www.dansketaler.dk/tale/mette-frederiksens-tale-til-socialdemokratiets-arsmode\n",
      "\n",
      "Citat: 'Og jeg glæder mig til at høre jeres.'\t\n",
      "Link: https://www.dansketaler.dk/tale/mette-frederiksens-tale-ved-kommunalpolitisk-topmode\n",
      "\n",
      "Citat: 'Vi har i dag en særlig udfordring i vores behandling af mennesker med psykiske lidelser. Som ofte er de mest sårbare af os alle.'\t\n",
      "Link: https://www.dansketaler.dk/tale/mette-frederiksens-tale-ved-folketingets-genaabning-2023\n",
      "\n",
      "Citat: 'Og så skal vi forbedre psykiatrien.'\t\n",
      "Link: https://www.dansketaler.dk/tale/mette-frederiksens-aarsmoedetale-2022\n",
      "\n",
      "Citat: 'Nu vil jeg gerne tale om tryghed.'\t\n",
      "Link: https://www.dansketaler.dk/tale/mette-frederiksens-tale-ved-socialdemokratiets-kongres-2017\n",
      "\n"
     ]
    }
   ],
   "source": [
    "\n"
   ]
  },
  {
   "cell_type": "code",
   "execution_count": 150,
   "id": "ae6dcf97-fd7a-401e-85d6-e1f4317e6858",
   "metadata": {},
   "outputs": [],
   "source": [
    "with open(\"taler/mette-frederiksens-tale-ved-kommunalpolitisk-topmode.txt\", \"r\") as f:\n",
    "    raw_lines = f.readlines()"
   ]
  },
  {
   "cell_type": "code",
   "execution_count": 169,
   "id": "51429e81-b291-43b8-92e1-2b39f53544f3",
   "metadata": {
    "scrolled": true
   },
   "outputs": [
    {
     "data": {
      "text/plain": [
       "[('mette-frederiksens-tale-til-socialdemokratiets-arsmode',\n",
       "  'Kære venner,\\xa0\\n\\nJeg skal til at slutte min tale.\\xa0\\n\\nVi vil bruge de kommende år til at gøre velfærdssamfundet stærkere.\\xa0\\n\\nVi skal i mål med lønløftet for at sikre flere medarbejdere.\\xa0\\n\\nMen der er også andre vigtige opgaver foran os.\\xa0\\n\\nVi skal fortsætte vores store engagement i Ukraine. Det er fremtidens Europa, der formes i de her år.\\xa0\\n\\nAlt det vi tror på – alt det vi står for - vil tabe, hvis det igen er den stærke mand og magt, der definerer andre landes grænser.\\xa0\\n\\nRuslands krig er en gammeldags og ondskabsfuld krig. Med tusinder og atter tusinder ofre.\\xa0\\n\\nJeg bliver ofte spurgt hvad vi gør, hvis europæerne bliver trætte af krigen. Helt ærligt. Så længe ukrainerne kæmper, så kan ingen af os tillade os at vige fra deres side.\\xa0\\n\\nDer er få øjeblikke i verdenshistorien, der definerer fremtiden og menneskeheden så meget som netop nu. Det er ikke Putin. Det er Zelensky, der skal vinde den her krig.\\xa0\\n\\nOgså her gælder det. At når vi siger, vi vil hjælpe Ukraine. Så gør vi det.\\xa0\\n\\nOg når vi siger, vi vil styrke psykiatrien.\\xa0\\n\\nSå gør vi det.\\n\\nRegeringen har besluttet at afsætte penge i vores kommende 2030-plan til at levere den nødvendige 10-års plan for psykiatrien.\\xa0\\n\\nVi skal have fokus på forebyggelse, på bedre indlæggelser. En bedre sammenhæng mellem indlæggelse og skole og arbejde. Og på at gå op imod den sårbarhed, som alt for mange børn og unge oplever.\\xa0\\n\\nOgså her løser penge ikke alle problemer.\\xa0\\n\\nVi bliver nødt til at få gjort noget ved de underliggende problemer i for mange børns liv.\\xa0\\n\\nBarndommen er blevet kortere. Legen og de voksne autoriteter fylder mindre. Skærmene til gengæld alt for meget. De forpligtende fællesskaber er blevet færre, og individet fylder tilsvarende meget mere.\\xa0\\n\\nHvis vi kun har fokus på den ene side af mønten, får vi kun behandlet symptomerne. Det får vi ikke glade børn af. Vi får heller ikke robuste børn.\\xa0\\n\\nPå samme vis med folkeskolen. Som er en god skole. Men også en skole, der styres for meget i detaljen, og hvor ikke mindst mange drenge oplever at blive skoletrætte.\\xa0\\n\\nOm kort tid kommer vi med regeringens forslag til en ny skole. Som er mere praktisk. Hvor læreren skal spille en stærkere rolle, og hvor vi sætter fri fra detailstyringen.\\xa0\\n\\nFrisættelsen er gennemgående for den her regering. Det gælder også på ældreområdet. Hvor vi vil have mere tid til omsorg. Og mindre tid på skemaer og papirnusseri. Det er en bunden opgave for regeringen. Som jeg glæder mig til, vi kan præsentere et samlet bud på.\\xa0\\n\\nSættes fri skal banderne ikke. Tværtimod. Med det bandeudspil vi lige har fremlagt, understreger vi igen, at vi har viljen til at komme den organiserede kriminalitet til livs.\\xa0\\n\\nDet er blot fem af de store opgaver, der ligger lige foran os.\\n\\nMen fælles for dem alle er:\\xa0\\n\\nAt det vi siger.\\xa0\\n\\nDet gør vi.\\xa0\\n',\n",
       "  'Og når vi siger, vi vil styrke psykiatrien.\\xa0\\n'),\n",
       " ('mette-frederiksens-tale-ved-kommunalpolitisk-topmode',\n",
       "  'De fem udfordringer, som jeg her har ridset op.\\n\\nDemografien.\\n\\nRekrutteringsproblemerne.\\n\\nDet voksende bureaukrati.\\n\\nSammenhængskraften, der er truet.\\n\\nOg voksende forventninger til velfærden.\\n\\nDet er min analyse af den virkelighed, vi står over for. Regeringens analyse.\\n\\nDen vil vi gerne diskutere med jer.\\n\\nOg jeg glæder mig til at høre jeres.\\n\\nI mine øjne står vi over for valget: Vil vi humpe videre? Lappe lidt her og der. Håbe, at det holder vores tid ud?\\n\\nEller vil vi tage mere grundlæggende fat?\\n\\nMed nye måder at indrette velfærden på? Og reformer, der kan skabe forandringer, som rækker ud over vores levetid?\\n\\nJeg sender nok ikke chokbølger gennem rummet her ved at sige, at vi i regeringen foretrækker det sidste.\\n\\nOg vi ønsker ikke. Faktisk slet ikke. At gøre det selv.\\n\\nTværtimod. Vi ønsker at samarbejde med jer. Med partierne. Og ikke mindst med danskerne.\\n',\n",
       "  'Og jeg glæder mig til at høre jeres.\\n'),\n",
       " ('mette-frederiksens-tale-ved-folketingets-genaabning-2023',\n",
       "  'Der skal være flere læger, sygeplejersker, sosu’er og andet sundhedspersonale. De skal tættere på patienten.\\n\\nOg der skal være større sammenhæng mellem, hvad den ene hånd gør. Og hvad den anden hånd gør.\\n\\nFor eksempel går det alt for ofte galt, når en ældre patient udskrives, uden at det er koordineret med hjemmesygeplejen. Så er det vejen til genindlæggelser.\\n\\nDet er urimeligt over for patienten. Og tager ressourcer ud af et system, der i forvejen er presset.\\n\\nDer bør altid være nogen, der griber dig, når du bliver udskrevet fra et sygehus.\\n\\nOg et andet eksempel: I dag er der mange ældre, svækkede borgere, som oplever hyppige og korte akutte indlæggelser. Svingdørspatienter. Det er forvirrende. Det er utrygt.\\n\\nAmbulancen skal køre og sygehuset tage imod, hvis det er akut. Det er klart.\\n\\nMen tænk nu, hvis sygehuset kunne række helt ud i borgerens hjem og spare en indlæggelse?\\n\\nOg hvis det sundhedspersonale, som er tæt på borgeren, var klædt på til at tage flere ting i opløbet?\\n\\nVi må tænke nyt. Organisere sundhedsvæsenet på en ny måde. Hele vejen rundt.\\n\\nI dag kender vi ikke alle svarene. Derfor vil regeringen nedsætte en strukturkommission.\\n\\nFor selvom det haster med at gøre vores sundhedsvæsen bedre og mere robust.\\n\\nSå er der også brug for, at vi tænker os om. Går grundigt til værks. Og inddrager erfaringer og viden fra både eksperter, medarbejdere, patienter og pårørende.\\n\\nVil det tage tid? Ja. Men det er tid, der vil være rigtig godt givet ud. For vi skal gøre det ordentligt.\\n\\nSundhed handler ikke kun om kroppen. Men også om psyken.\\n\\nVi har i dag en særlig udfordring i vores behandling af mennesker med psykiske lidelser. Som ofte er de mest sårbare af os alle.\\n\\nFlere og flere søger hjælp i psykiatrien. Får ondt i sindet. Især blandt børn og unge. Det er ubærligt for den, der bliver ramt. Og for den far, mor eller partner, der står magtesløs ved siden af.\\n\\nHer har vi som samfund svigtet. Ikke givet den nødvendige hjælp.\\n\\nDét vil regeringen nu rette op på.\\n\\nVi vil give et markant løft til psykiatrien på 3 milliarder kroner i 2030.\\n\\nPengene skal gå til bedre forebyggelse. Flere sengepladser. Mere indhold i de dage, hvor patienten er indlagt. Mere personale. Mere forskning.\\n\\nDet vil betyde en anden psykiatri, end den vi kender i dag. Og en psykiatri, hvor vi langt om længe ligestiller fysiske og psykiske lidelser.\\n\\nMålet med det store arbejde, vi nu sætter i gang, er et grundlæggende bedre sundhedsvæsen – for alle danskere. I hele landet. Og uanset om det gælder fysiske eller psykiske lidelser.\\n',\n",
       "  'Vi har i dag en særlig udfordring i vores behandling af mennesker med psykiske lidelser. Som ofte er de mest sårbare af os alle.\\n'),\n",
       " ('mette-frederiksens-aarsmoedetale-2022',\n",
       "  'Sort blokpolitik vil sætte Danmarks klimaindsats over styr.\\xa0\\n\\nOg klima handler jo ikke længere kun om klima.\\xa0\\n\\nDet er arbejdspladser, vi risikerer at gå glip af.\\xa0\\n\\nDet er virksomhedernes konkurrenceevne, der kan blive mindre.\\n\\nDet er vores modstandskraft overfor Putin, der vil blive svækket.\\xa0\\n\\nMen først og sidst så handler det her om det ansvar, vi har overfor vores jordklode. Overfor vores børn. Overfor vores unge.\\xa0\\n\\nDet er netop børn og unge, der for alvor har sat klimaet på den politiske dagsorden.\\xa0\\n\\nDen kamp har defineret jeres generation.\\xa0\\n\\nMen der er også andre emner, der fylder.\\xa0\\n\\nLangt de fleste børn og unge har det godt. Men ikke alle.\\xa0\\n\\nSårbarhed.\\xa0\\n\\nAngst. Ensomhed.\\xa0\\n\\nDen følelse af, at ingen forstår mig.\\xa0\\n\\nJeg er forkert. Jeg passer ikke ind.\\xa0\\n\\nSådan er der nogle af jer, der har det.\\xa0\\n\\nSådan er der for mange af jer, der har det.\\xa0\\n\\nJeg synes mest af alt, at det kræver en samfundsdiagnose. Det må, og det kan ikke være et individuelt problem, når så mange børn og unge mistrives.\\xa0\\n\\nVi må kigge kritisk på skolen og på uddannelserne. På de sociale medier. På hvordan vi gør hinanden mere robuste til at møde livet. Hvordan vi skaber et samfund, hvor følsomhed ikke bliver til sygdom.\\n\\nOg så skal vi forbedre psykiatrien.\\xa0\\n\\nEfterslæbet er stort. Forebyggelsen halter. Og behandlingen til dem, der har brug for den, er ikke tilstrækkelig.\\xa0\\n\\nDerfor forhandler vi nu om en 10-års plan med partierne.\\xa0\\n\\nMange er utålmodige. Det forstår jeg godt.\\xa0\\n\\nDet kræver et langt, sejt træk af nå i mål. Men det har vi gjort før, når vi stod over for store udfordringer i vores sundhedsvæsen.\\xa0\\n\\nOg i mål – det skal vi også her.\\xa0\\n\\nNår det handler om psykiatrien. Børn og unge, der ikke har det godt.\\xa0\\n\\nSå \\n\\nskal \\n\\nvi gøre det bedre!\\xa0\\n',\n",
       "  'Og så skal vi forbedre psykiatrien.\\xa0\\n'),\n",
       " ('mette-frederiksens-tale-ved-socialdemokratiets-kongres-2017',\n",
       "  'Venstre, I var engang det parti, der kæmpede for de små lokalsamfund og for, at der selvfølgelig også skal være liv på landet. Sådan er det ikke længere.\\n\\nNu skælder I ud på København. Men det løser jo ingenting.\\n\\nKære kongres;\\n\\nDet her er ikke en kamp mellem land og by. Det har aldrig været en kamp mellem land og by.\\n\\nVi vil have lokalsamfund, der hænger sammen.\\n\\nLad os tage et opgør med centraliseringen af Danmark.\\n\\nEn ældrepleje, vi kan være stolte af. Et opgør med centraliseringen.\\n\\nNu vil jeg gerne tale om tryghed.\\n\\nJeg afskyr vold. Volden som banderne står bag, når de skyder på må og få i vores gader. Den vold, de udsætter fængselsbetjentene for.\\n\\nVolden, som stadig findes i danske familier. Mod mødre. Og deres børn.\\n',\n",
       "  'Nu vil jeg gerne tale om tryghed.\\n')]"
      ]
     },
     "execution_count": 169,
     "metadata": {},
     "output_type": "execute_result"
    }
   ],
   "source": [
    "result"
   ]
  },
  {
   "cell_type": "code",
   "execution_count": null,
   "id": "734f73a6-62cc-4966-ab6e-46af56a6b268",
   "metadata": {},
   "outputs": [],
   "source": []
  }
 ],
 "metadata": {
  "kernelspec": {
   "display_name": "Python 3 (ipykernel)",
   "language": "python",
   "name": "python3"
  },
  "language_info": {
   "codemirror_mode": {
    "name": "ipython",
    "version": 3
   },
   "file_extension": ".py",
   "mimetype": "text/x-python",
   "name": "python",
   "nbconvert_exporter": "python",
   "pygments_lexer": "ipython3",
   "version": "3.12.7"
  }
 },
 "nbformat": 4,
 "nbformat_minor": 5
}

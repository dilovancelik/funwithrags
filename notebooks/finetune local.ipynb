{
 "cells": [
  {
   "cell_type": "code",
   "execution_count": 17,
   "id": "1a2e6dc6-785c-4aa1-bad7-5522ca9d96f9",
   "metadata": {},
   "outputs": [],
   "source": [
    "from tqdm import tqdm\n",
    "from langchain_core.vectorstores import InMemoryVectorStore\n",
    "from langchain_ollama import OllamaEmbeddings, embeddings #, ChatOllama, llms\n",
    "from langchain_community.document_loaders import TextLoader\n",
    "from langchain_postgres import PGVector\n",
    "from langchain_text_splitters import RecursiveCharacterTextSplitter"
   ]
  },
  {
   "cell_type": "code",
   "execution_count": 12,
   "id": "e25eb5a0-dc5d-4015-8f2a-3b8d625bc861",
   "metadata": {},
   "outputs": [
    {
     "name": "stdout",
     "output_type": "stream",
     "text": [
      "started splitting\n"
     ]
    }
   ],
   "source": [
    "\n",
    "loader = TextLoader('./data/hundeloven.txt')\n",
    "documents = loader.load()\n",
    "print(\"started splitting\")\n",
    "text_splitter = RecursiveCharacterTextSplitter(chunk_size=5000, chunk_overlap=500)"
   ]
  },
  {
   "cell_type": "code",
   "execution_count": 10,
   "id": "bdc036f2-c77b-49ca-ad03-67d09bbff35a",
   "metadata": {},
   "outputs": [],
   "source": [
    "splits = text_splitter.split_documents(documents)"
   ]
  },
  {
   "cell_type": "code",
   "execution_count": 16,
   "id": "a2a3ea6e-f84c-4cda-97a5-3f0b1d7c1b90",
   "metadata": {},
   "outputs": [
    {
     "data": {
      "text/plain": [
       "'./data/hundeloven.txt'"
      ]
     },
     "execution_count": 16,
     "metadata": {},
     "output_type": "execute_result"
    }
   ],
   "source": [
    "splits[0].metadata['source']"
   ]
  },
  {
   "cell_type": "code",
   "execution_count": 18,
   "id": "fc3c7a2a-608c-4fd4-a1b2-c5ae66d961a7",
   "metadata": {},
   "outputs": [],
   "source": [
    "text1 = \"I Danmark er det lovlig at holde hund\"\n",
    "text2 = \"Der er ingen national regulering i forhold til kæledyr\"\n",
    "text3 = \"Fodboldspilleren Michael Laudrup er Danmarks bedste fodboldspiller\""
   ]
  },
  {
   "cell_type": "code",
   "execution_count": 29,
   "id": "95402c33-60f4-4957-9a93-1e90f20d9253",
   "metadata": {},
   "outputs": [],
   "source": [
    "embedding = OllamaEmbeddings(model=\"llama3.3\")"
   ]
  },
  {
   "cell_type": "code",
   "execution_count": 30,
   "id": "d0d4862b-47f4-4ce1-bd8b-cb5955c77918",
   "metadata": {},
   "outputs": [],
   "source": [
    "emb1 = np.array(embedding.embed_query(text1))\n",
    "emb2 = np.array(embedding.embed_query(text2))\n",
    "emb3 = np.array(embedding.embed_query(text3))"
   ]
  },
  {
   "cell_type": "code",
   "execution_count": 31,
   "id": "f71dcb57-5d3a-4011-bb8b-41a5bb852b7e",
   "metadata": {},
   "outputs": [],
   "source": [
    "import numpy as np\n",
    "from numpy.linalg import norm"
   ]
  },
  {
   "cell_type": "code",
   "execution_count": 32,
   "id": "7aa072c4-9e13-4fd2-959b-2e8fabbc8440",
   "metadata": {},
   "outputs": [],
   "source": [
    "similarity_12 = np.dot(emb1, emb2) / (norm(emb1)*norm(emb2))\n",
    "similarity_13 = np.dot(emb1, emb3) / (norm(emb1)*norm(emb3))\n",
    "similarity_32 = np.dot(emb3, emb2) / (norm(emb3)*norm(emb2))"
   ]
  },
  {
   "cell_type": "code",
   "execution_count": 33,
   "id": "8dc164ff-df5f-4896-9ede-b42662306974",
   "metadata": {},
   "outputs": [
    {
     "data": {
      "text/plain": [
       "0.7313933256427269"
      ]
     },
     "execution_count": 33,
     "metadata": {},
     "output_type": "execute_result"
    }
   ],
   "source": [
    "similarity_12"
   ]
  },
  {
   "cell_type": "code",
   "execution_count": 34,
   "id": "62cb06ef-1285-4962-87e8-178d191d10ac",
   "metadata": {},
   "outputs": [
    {
     "data": {
      "text/plain": [
       "0.6201890758817378"
      ]
     },
     "execution_count": 34,
     "metadata": {},
     "output_type": "execute_result"
    }
   ],
   "source": [
    "similarity_13"
   ]
  },
  {
   "cell_type": "code",
   "execution_count": 35,
   "id": "103c6442-ede9-4c98-bd08-7c1a099fcadd",
   "metadata": {},
   "outputs": [
    {
     "data": {
      "text/plain": [
       "0.5904715948439683"
      ]
     },
     "execution_count": 35,
     "metadata": {},
     "output_type": "execute_result"
    }
   ],
   "source": [
    "similarity_32"
   ]
  },
  {
   "cell_type": "code",
   "execution_count": null,
   "id": "6a467433-7aba-4b5e-94b7-64c791036b83",
   "metadata": {},
   "outputs": [],
   "source": []
  }
 ],
 "metadata": {
  "kernelspec": {
   "display_name": "Python 3 (ipykernel)",
   "language": "python",
   "name": "python3"
  },
  "language_info": {
   "codemirror_mode": {
    "name": "ipython",
    "version": 3
   },
   "file_extension": ".py",
   "mimetype": "text/x-python",
   "name": "python",
   "nbconvert_exporter": "python",
   "pygments_lexer": "ipython3",
   "version": "3.13.0"
  }
 },
 "nbformat": 4,
 "nbformat_minor": 5
}

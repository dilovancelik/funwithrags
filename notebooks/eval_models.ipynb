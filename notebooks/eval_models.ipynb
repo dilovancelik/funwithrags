{
 "cells": [
  {
   "cell_type": "code",
   "execution_count": null,
   "metadata": {},
   "outputs": [],
   "source": [
    "import pandas as pd\n",
    "from datasets import load_dataset\n",
    "import json\n",
    "from sentence_transformers import SentenceTransformer\n",
    "from sentence_transformers.evaluation import TripletEvaluator\n",
    "from datasets import Dataset\n",
    "from sklearn.model_selection import train_test_split"
   ]
  },
  {
   "cell_type": "code",
   "execution_count": null,
   "metadata": {},
   "outputs": [],
   "source": [
    "dataset = load_dataset(\"dilovancelik/danish_law_qa\")\n",
    "dataset = dataset[\"train\"].train_test_split(test_size=0.1)"
   ]
  },
  {
   "cell_type": "code",
   "execution_count": 3,
   "metadata": {},
   "outputs": [],
   "source": [
    "models_to_evaluate = [\n",
    "    \"sentence-transformers/all-distilroberta-v1\",\n",
    "    \"Salesforce/SFR-Embedding-2_R\",\n",
    "    \"Salesforce/SFR-Embedding-Mistral\",\n",
    "    \"GritLM/GritLM-7B\",\n",
    "    \"GritLM/GritLM-7B\",\n",
    "    \"Snowflake/snowflake-arctic-embed-l-v2.0\",\n",
    "    \"nvidia/NV-Embed-v1\",\n",
    "    \"intfloat/multilingual-e5-large\",\n",
    "]"
   ]
  },
  {
   "cell_type": "code",
   "execution_count": null,
   "metadata": {},
   "outputs": [],
   "source": [
    "results = []\n",
    "for model_name in models_to_evaluate:\n",
    "    model = SentenceTransformer(model_name)\n",
    "    evaluator = TripletEvaluator(\n",
    "        anchors=dataset[\"test\"][\"question\"],\n",
    "        positives=dataset[\"test\"][\"context\"],\n",
    "        negatives=dataset[\"test\"][\"neg_context\"],\n",
    "        name=f\"{model_name}_eval\",\n",
    "    )\n",
    "    result = evaluator(model)\n",
    "    results.append(result)"
   ]
  },
  {
   "cell_type": "code",
   "execution_count": null,
   "metadata": {},
   "outputs": [],
   "source": []
  }
 ],
 "metadata": {
  "kernelspec": {
   "display_name": ".venv",
   "language": "python",
   "name": "python3"
  },
  "language_info": {
   "codemirror_mode": {
    "name": "ipython",
    "version": 3
   },
   "file_extension": ".py",
   "mimetype": "text/x-python",
   "name": "python",
   "nbconvert_exporter": "python",
   "pygments_lexer": "ipython3",
   "version": "3.12.7"
  }
 },
 "nbformat": 4,
 "nbformat_minor": 2
}
